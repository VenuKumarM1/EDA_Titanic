{
 "cells": [
  {
   "cell_type": "markdown",
   "id": "2010e77d",
   "metadata": {},
   "source": [
    "<h1><span style=\"color: #666699;\"><strong>Titanic Dataset Analysis</strong></span></h1>"
   ]
  },
  {
   "cell_type": "markdown",
   "id": "32bef2eb",
   "metadata": {},
   "source": [
    "<div class=\"fig\">\n",
    "<div class=\"fig\">\n",
    "<h3 class=\"avatar-gutter ng-tns-c4029313283-104 ng-star-inserted\"><span style=\"color: #808080;\">About Titanic:</span></h3>\n",
    "<h4 class=\"avatar-gutter ng-tns-c4029313283-104 ng-star-inserted\"><span style=\"color: #808080;\">The RMS Titanic, a luxurious British passenger liner, sank in the early hours of April 15, 1912, in the North Atlantic Ocean, during its maiden voyage from Southampton to New York City. </span></h4>\n",
    "<h4 class=\"avatar-gutter ng-tns-c4029313283-104 ng-star-inserted\"><span style=\"color: #808080;\">It struck an iceberg, causing the \"unsinkable\" ship to break apart and plunge to the depths. </span></h4>\n",
    "<h4 class=\"avatar-gutter ng-tns-c4029313283-104 ng-star-inserted\"><span style=\"color: #808080;\">Over 1,500 people died, making it one of the deadliest commercial peacetime maritime disasters in modern history. </span></h4>\n",
    "<h4 class=\"avatar-gutter ng-tns-c4029313283-104 ng-star-inserted\"><span style=\"color: #808080;\">The story of the Titanic continues to fascinate people due to its scale and lingering questions about the disaster.</span></h4>\n",
    "</div>\n",
    "</div>"
   ]
  },
  {
   "cell_type": "markdown",
   "id": "aafddb64",
   "metadata": {},
   "source": [
    "<div class=\"fig\">\n",
    "<div class=\"fig\">\n",
    "<pre id=\"taag_font_Doh\" class=\"fig\" contenteditable=\"true\"><span style=\"color: #808080;\">                                       \n",
    "TTTTTTTTTTTTTTTTTTTTTTT  iiii          tttt                                               iiii                      \n",
    "T:::::::::::::::::::::T i::::i      ttt:::t                                              i::::i                     \n",
    "T:::::::::::::::::::::T  iiii       t:::::t                                               iiii                      \n",
    "T:::::TT:::::::TT:::::T             t:::::t                                                                         \n",
    "TTTTTT  T:::::T  TTTTTTiiiiiiittttttt:::::ttttttt      aaaaaaaaaaaaa  nnnn  nnnnnnnn    iiiiiii     cccccccccccccccc\n",
    "        T:::::T        i:::::it:::::::::::::::::t      a::::::::::::a n:::nn::::::::nn  i:::::i   cc:::::::::::::::c\n",
    "        T:::::T         i::::it:::::::::::::::::t      aaaaaaaaa:::::an::::::::::::::nn  i::::i  c:::::::::::::::::c\n",
    "        T:::::T         i::::itttttt:::::::tttttt               a::::ann:::::::::::::::n i::::i c:::::::cccccc:::::c\n",
    "        T:::::T         i::::i      t:::::t              aaaaaaa:::::a  n:::::nnnn:::::n i::::i c::::::c     ccccccc\n",
    "        T:::::T         i::::i      t:::::t            aa::::::::::::a  n::::n    n::::n i::::i c:::::c             \n",
    "        T:::::T         i::::i      t:::::t           a::::aaaa::::::a  n::::n    n::::n i::::i c:::::c             \n",
    "        T:::::T         i::::i      t:::::t    tttttta::::a    a:::::a  n::::n    n::::n i::::i c::::::c     ccccccc\n",
    "      TT:::::::TT      i::::::i     t::::::tttt:::::ta::::a    a:::::a  n::::n    n::::ni::::::ic:::::::cccccc:::::c\n",
    "      T:::::::::T      i::::::i     tt::::::::::::::ta:::::aaaa::::::a  n::::n    n::::ni::::::i c:::::::::::::::::c\n",
    "      T:::::::::T      i::::::i       tt:::::::::::tt a::::::::::aa:::a n::::n    n::::ni::::::i  cc:::::::::::::::c\n",
    "      TTTTTTTTTTT      iiiiiiii         ttttttttttt    aaaaaaaaaa  aaaa nnnnnn    nnnnnniiiiiiii    cccccccccccccccc\n",
    "</span></pre>\n",
    "</div>\n",
    "</div>"
   ]
  },
  {
   "cell_type": "markdown",
   "id": "52e81671",
   "metadata": {},
   "source": [
    "<h4><span style=\"color: #808080;\">⠀⠀⠀⠀⣤⡀⠀⠀⠀⠀⠀⠀⠀⠀⠀⠀⠀⠀⠀⠀⠀⠀⠀⠀⠀⠀⠀⠀</span><br /><span style=\"color: #808080;\">⠀⠀⠀⠀⣿⣿⣦⡀⠀⠀⠀⠀⠀⠀⠀⠀⠀⠀⠀⠀⠀⠀⠀⠀⠀⠀⠀⠀</span><br /><span style=\"color: #808080;\">⠀⠀⠀⠀⣿⣿⠻⣿⣦⡀⠀⠀⠀⠀⠀⠀⠀⠀⠀⠀⠀⠀⠀⣠⣤⠀⠀⠀</span><br /><span style=\"color: #808080;\">⠀⠀⠀⢀⣿⣿⠀⠈⠻⣿⣦⡀⠀⠀⢀⣴⣿⣦⡀⠀⠀⣠⣾⡿⠋⠀⠀⠀</span><br /><span style=\"color: #808080;\">⠀⠀⠀⣾⣿⣿⣷⣄⠀⠈⠻⣿⣦⣴⣿⠟⠉⠻⣿⣦⣾⡿⠋⠀⠀⣠⣾⡿</span><br /><span style=\"color: #808080;\">⠀⠀⠀⢿⣿⣿⣿⣿⣷⣄⠀⠈⠻⣿⣧⣄⠀⢠⡌⠻⣿⣦⡀⣠⣾⡿⠋⠀</span><br /><span style=\"color: #808080;\">⠀⠀⠀⠈⠻⣿⣿⣿⣿⣿⣿⣦⡀⠈⠹⢿⣷⣌⠁⢠⡌⠻⣿⣿⡋⠀⠀⠀</span><br /><span style=\"color: #808080;\">⠀⠀⠀⠀⠀⠈⠻⣿⣿⣿⣿⣿⣿⣦⡀⠈⠙⣿⣷⣄⠀⢠⡌⠻⣿⣦⡀⠀</span><br /><span style=\"color: #808080;\">⠀⠀⠀⠀⠀⠀⠀⠈⠻⣿⣿⣿⣿⣿⣿⣦⡀⠀⠛⢿⣷⣄⠀⣤⠈⠻⣿⣦</span><br /><span style=\"color: #808080;\">⠀⠀⠀⣀⡀⠀⠀⠀⢀⡈⠻⣿⡿⢛⡛⠿⠿⠀⢀⡀⠙⢿⠇⢀⣀⠀⠈⠉</span><br /><span style=\"color: #808080;\">⢠⣶⣶⣿⣷⣶⣶⣶⣿⣿⣶⣶⣶⣿⣿⣶⣶⣶⣿⣿⣶⣶⣶⣾⣿⣶⣶⡄</span><br /><span style=\"color: #808080;\">⠈⠋⠉⠀⠈⠉⠋⠉⠁⠈⠉⠛⠉⠁⠈⠉⠛⠉⠁⠈⠉⠙⠉⠁⠀⠉⠙⠁</span></h4>"
   ]
  },
  {
   "cell_type": "markdown",
   "id": "36ba38ce",
   "metadata": {
    "jp-MarkdownHeadingCollapsed": true
   },
   "source": [
    "<h1><span style=\"color: #808080;\">Problem Statement</span></h1>\n",
    "<h4><span style=\"color: #808080;\"><strong>Perform exploratory data analysis on TITANIC Dataset </strong> from Seaborn and provide necessary findings on relation among variables in the data. <br> <strong>Target variable is survival</strong></span></h4>"
   ]
  },
  {
   "cell_type": "markdown",
   "id": "984de541",
   "metadata": {},
   "source": [
    "<h1><span style=\"color: #808080;\">Import Necessary Libraries</span></h1>"
   ]
  },
  {
   "cell_type": "markdown",
   "id": "3be4ca82-c4a3-43cc-826a-dcbb88cc4080",
   "metadata": {},
   "source": [
    "<ul>\n",
    "<li ><span style=\"color: #808080;\">numpy (np): Provides efficient numerical computation tools.</span></li>\n",
    "<li ><span style=\"color: #808080;\">pandas (pd): Offers data manipulation and analysis structures (DataFrames, Series).</span></li>\n",
    "<li ><span style=\"color: #808080;\">seaborn (sns): Creates informative statistical data visualizations based on Matplotlib.</span></li>\n",
    "<li ><span style=\"color: #808080;\">matplotlib.pyplot (plt): Enables various plot creations for data visualization.</span></li>\n",
    "<li ><span style=\"color: #808080;\">%matplotlib inline (Jupyter Notebook specific): Displays plots within the notebook.</span></li>\n",
    "<li ><span style=\"color: #808080;\">warnings (with warnings.filterwarnings(\"ignore\")): Suppresses warnings.</span></li>\n",
    "</ul>"
   ]
  },
  {
   "cell_type": "code",
   "execution_count": null,
   "id": "0612194d",
   "metadata": {
    "jupyter": {
     "source_hidden": true
    }
   },
   "outputs": [],
   "source": [
    "import numpy as np\n",
    "import pandas as pd\n",
    "import seaborn as sns\n",
    "import matplotlib.pyplot as plt\n",
    "%matplotlib inline\n",
    "import warnings\n",
    "warnings.filterwarnings(\"ignore\")"
   ]
  },
  {
   "cell_type": "markdown",
   "id": "196ee997",
   "metadata": {},
   "source": [
    "<div class=\"fig\">\n",
    "<div class=\"fig\">\n",
    "<h1 class=\"avatar-gutter ng-tns-c4029313283-104 ng-star-inserted\"><span style=\"color: #808080;\">Load Titanic dataset</span></h1>\n",
    "</div>\n",
    "</div>"
   ]
  },
  {
   "cell_type": "markdown",
   "id": "91e36834",
   "metadata": {},
   "source": [
    "<div >\n",
    "<ul>\n",
    "<li ><span style=\"color: #808080;\"> df = sns.load_dataset(\"titanic\") - Loads the \"titanic\" dataset from seaborn as df.</span></li>\n",
    "<li ><span style=\"color: #808080;\">df.to_csv(r\"Data.csv\") - Saves the entire dataset as a CSV file named \"Data.csv\" (Helps to check or view the data in excel format).</span></li>\n",
    "</ul>\n",
    "</div>"
   ]
  },
  {
   "cell_type": "code",
   "execution_count": null,
   "id": "a398296d",
   "metadata": {
    "jupyter": {
     "source_hidden": true
    },
    "scrolled": true
   },
   "outputs": [],
   "source": [
    "df = sns.load_dataset(\"titanic\")\n",
    "# df.to_csv(r\"Data.csv\")"
   ]
  },
  {
   "cell_type": "markdown",
   "id": "920f9322-a437-469a-bb87-7a6f543dd2e0",
   "metadata": {},
   "source": [
    "<div class=\"fig\">\n",
    "<div class=\"fig\">\n",
    "<h3 class=\"avatar-gutter ng-tns-c4029313283-104 ng-star-inserted\"><span style=\"color: #808080;\">Description of Variables</span></h3>\n",
    "</div>\n",
    "</div>"
   ]
  },
  {
   "cell_type": "markdown",
   "id": "3b2df529-9725-43f6-8124-fe816714ad98",
   "metadata": {},
   "source": [
    "<table style=\"height: 374px; width: 349px;\">\n",
    "<tbody>\n",
    "<tr style=\"height: 18px;\">\n",
    "<td style=\"width: 116.75px; height: 18px; padding-left: 30px;\"><strong>Variable</strong></td>\n",
    "<td style=\"width: 160.85px; height: 18px; padding-left: 30px;\"><strong>Description</strong></td>\n",
    "</tr>\n",
    "<tr style=\"height: 1.03334px;\">\n",
    "<td style=\"width: 145.75px; height: 1.03334px;\"><span style=\"color: #808080;\">Survived and Alive</span></td>\n",
    "<td style=\"width: 189.85px; height: 1.03334px;\"><span style=\"color: #999999;\"><em>Describes whether person is alive or not</em></span></td>\n",
    "</tr>\n",
    "<tr style=\"height: 34px;\">\n",
    "<td style=\"width: 145.75px; height: 34px;\"><span style=\"color: #808080;\">Pclass and Class</span></td>\n",
    "<td style=\"width: 189.85px; height: 34px;\"><span style=\"color: #999999;\"><em>Describes passenger class</em></span></td>\n",
    "</tr>\n",
    "<tr style=\"height: 34px;\">\n",
    "<td style=\"width: 145.75px; height: 34px;\"><span style=\"color: #808080;\">Sex, Who and Adult_Male</span></td>\n",
    "<td style=\"width: 189.85px; height: 34px;\"><span style=\"color: #999999;\"><em>Describes gender and age group</em></span></td>\n",
    "</tr>\n",
    "<tr style=\"height: 34px;\">\n",
    "<td style=\"width: 145.75px; height: 34px;\"><span style=\"color: #808080;\">Age</span></td>\n",
    "<td style=\"width: 189.85px; height: 34px;\"><span style=\"color: #999999;\"><em>Gives info of Age</em></span></td>\n",
    "</tr>\n",
    "<tr style=\"height: 34px;\">\n",
    "<td style=\"width: 145.75px; height: 34px;\"><span style=\"color: #808080;\">Sibsp and Parch</span></td>\n",
    "<td style=\"width: 189.85px; height: 34px;\"><span style=\"color: #999999;\"><em>Give count of Sibling, Spouse and Parents, Children</em></span></td>\n",
    "</tr>\n",
    "<tr style=\"height: 34px;\">\n",
    "<td style=\"width: 145.75px; height: 34px;\"><span style=\"color: #808080;\">Fare</span></td>\n",
    "<td style=\"width: 189.85px; height: 34px;\"><span style=\"color: #999999;\"><em>Gives info of Ticket price paid for voyage</em></span></td>\n",
    "</tr>\n",
    "<tr style=\"height: 34px;\">\n",
    "<td style=\"width: 145.75px; height: 34px;\"><span style=\"color: #808080;\">Embarked and Embark_town</span><br /><br /></td>\n",
    "<td style=\"width: 189.85px; height: 34px;\"><span style=\"color: #999999;\"><em>Gives details of embarkation town</em></span></td>\n",
    "</tr>\n",
    "<tr style=\"height: 34px;\">\n",
    "<td style=\"width: 145.75px; height: 34px;\"><span style=\"color: #808080;\">Deck</span></td>\n",
    "<td style=\"width: 189.85px; height: 34px;\"><span style=\"color: #999999;\"><em>Deck of passenger</em></span></td>\n",
    "</tr>\n",
    "<tr style=\"height: 34px;\">\n",
    "<td style=\"width: 145.75px; height: 34px;\"><span style=\"color: #808080;\">Alone</span></td>\n",
    "<td style=\"width: 189.85px; height: 34px;\"><span style=\"color: #999999;\"><em>Gives details of accompanied travel</em></span></td>\n",
    "</tr>\n",
    "</tbody>\n",
    "</table>\n",
    "<p>&nbsp;</p>"
   ]
  },
  {
   "cell_type": "markdown",
   "id": "387338b5",
   "metadata": {
    "jp-MarkdownHeadingCollapsed": true
   },
   "source": [
    "<div class=\"fig\">\n",
    "<div class=\"fig\">\n",
    "<h1 class=\"avatar-gutter ng-tns-c4029313283-104 ng-star-inserted\"><span style=\"color: #808080;\">Data Peperation</span></h1>\n",
    "</div>\n",
    "</div>"
   ]
  },
  {
   "cell_type": "code",
   "execution_count": null,
   "id": "af0dc784",
   "metadata": {
    "jupyter": {
     "source_hidden": true
    }
   },
   "outputs": [],
   "source": [
    "df.head(2)"
   ]
  },
  {
   "cell_type": "markdown",
   "id": "3517c329-eb69-4dc8-8d76-846af2defca3",
   "metadata": {},
   "source": [
    "<p data-sourcepos=\"3:1-3:41\"><span style=\"color: #ffcc00;\">Code Explanation:</span></p>\n",
    "<h4 ><span style=\"color: #808080;\">df.head() -  Displays the first few rows using head()</span></h4>"
   ]
  },
  {
   "cell_type": "code",
   "execution_count": null,
   "id": "328c06d7",
   "metadata": {
    "jupyter": {
     "source_hidden": true
    }
   },
   "outputs": [],
   "source": [
    "df.tail(2)"
   ]
  },
  {
   "cell_type": "markdown",
   "id": "f19993f5-bc5f-41af-a83c-0e91340edc00",
   "metadata": {},
   "source": [
    "<p data-sourcepos=\"3:1-3:41\"><span style=\"color: #ffcc00;\">Code Explanation:</span></p>\n",
    "<h4 ><span style=\"color: #808080;\">df.tail() - Displays the last few rows using tail()</span></h4>"
   ]
  },
  {
   "cell_type": "code",
   "execution_count": null,
   "id": "ac6d22aa",
   "metadata": {
    "jupyter": {
     "source_hidden": true
    },
    "scrolled": true
   },
   "outputs": [],
   "source": [
    "df.shape"
   ]
  },
  {
   "cell_type": "markdown",
   "id": "5ba2cd1b-d785-4cfe-b4f3-ed123956d723",
   "metadata": {},
   "source": [
    "<p data-sourcepos=\"3:1-3:41\"><span style=\"color: #ffcc00;\">Code Explanation:</span></p>\n",
    "<h4 ><span style=\"color: #808080;\">df.shape is used to get the dimensions (number of rows and columns) of data</span></h4>"
   ]
  },
  {
   "cell_type": "code",
   "execution_count": null,
   "id": "700b1553",
   "metadata": {
    "jupyter": {
     "source_hidden": true
    }
   },
   "outputs": [],
   "source": [
    "df.size"
   ]
  },
  {
   "cell_type": "markdown",
   "id": "66bcbb1e-73ba-4267-8bf5-0f924b2a5643",
   "metadata": {},
   "source": [
    "<p data-sourcepos=\"3:1-3:41\"><span style=\"color: #ffcc00;\">Code Explanation:</span></p>\n",
    "<h4 id=\"df.tail()----Displays-the-last-few-rows-using-tail()\" class=\"avatar-gutter ng-tns-c4029313283-104 ng-star-inserted\"><span style=\"color: #808080;\">df.size is used to get the total number of elements in a pandas</span></h4>"
   ]
  },
  {
   "cell_type": "code",
   "execution_count": null,
   "id": "ead877f0",
   "metadata": {
    "jupyter": {
     "source_hidden": true
    }
   },
   "outputs": [],
   "source": [
    "df.columns.tolist()"
   ]
  },
  {
   "cell_type": "markdown",
   "id": "cf1a480c-d552-4b8c-a930-c036b2e8ff4e",
   "metadata": {},
   "source": [
    "<p data-sourcepos=\"3:1-3:41\"><span style=\"color: #ffcc00;\">Code Explanation:</span></p>\n",
    "<h4 ><span style=\"color: #808080;\">df.columns.tolist() is used to get a list of column names from data</span></h4>"
   ]
  },
  {
   "cell_type": "code",
   "execution_count": null,
   "id": "a34b0e78",
   "metadata": {
    "jupyter": {
     "source_hidden": true
    },
    "scrolled": true
   },
   "outputs": [],
   "source": [
    "df.info()"
   ]
  },
  {
   "cell_type": "markdown",
   "id": "f17919bf-0bfa-4f34-b118-26c220aba7b8",
   "metadata": {},
   "source": [
    "<p data-sourcepos=\"3:1-3:41\"><span style=\"color: #ffcc00;\">Code Explanation:</span></p>\n",
    "<h4 ><span style=\"color: #808080;\">df.info() - used to display concise information about</span></h4>\n",
    "<ul>\n",
    "<li ><span style=\"color: #808080;\">Dimensions: The total number of rows and columns in the DataFrame or data.</span></li>\n",
    "<li ><span style=\"color: #808080;\">Column Data Types: The data type of each column (e.g., integer, float, string, etc.).</span></li>\n",
    "<li ><span style=\"color: #808080;\">Non-Null Counts: The number of non-null (not missing) values in each column.</span></li>\n",
    "<li ><span style=\"color: #808080;\">Memory Usage: An estimate of the memory usage of the DataFrame or data.</span></li>\n",
    "<ul>"
   ]
  },
  {
   "cell_type": "markdown",
   "id": "47388c1a",
   "metadata": {},
   "source": [
    "<p><strong><span style=\"color: #99cc00;\">Interpretation:</span></strong></p>\n",
    "<ul>\n",
    "<li><span style=\"color: #808080;\">There are null values present in columns like age and deck, now data will need further data cleaning</span></li>\n",
    "<li><span style=\"color: #808080;\">There are 15 columns with various data types</span></li>\n",
    "</ul>"
   ]
  },
  {
   "cell_type": "code",
   "execution_count": null,
   "id": "4da8cf3e",
   "metadata": {
    "jupyter": {
     "source_hidden": true
    }
   },
   "outputs": [],
   "source": [
    "# Basic summary statistics\n",
    "df.describe().T"
   ]
  },
  {
   "cell_type": "markdown",
   "id": "d0d4d4ed-5d2f-421d-a0ac-9c94ed3951c5",
   "metadata": {},
   "source": [
    "<p data-sourcepos=\"3:1-3:41\"><span style=\"color: #ffcc00;\">Code Explanation:</span></p>\n",
    "<h4 ><span style=\"color: #808080;\">df.describe().T applied to a DataFrame df which providies a summary of numerical columns.<br>.T -transposes the output</span></h4>"
   ]
  },
  {
   "cell_type": "markdown",
   "id": "f156a4cf",
   "metadata": {},
   "source": [
    "<p><strong><span style=\"color: #99cc00;\">Interpretation:</span></strong></p>\n",
    "<ul>\n",
    "<li><span style=\"color: #808080;\">There are 6 numarical columns</span></li>\n",
    "<li><span style=\"color: #808080;\">Missing values noted in age column</span></li>\n",
    "</ul>"
   ]
  },
  {
   "cell_type": "code",
   "execution_count": null,
   "id": "4fa62028",
   "metadata": {
    "jupyter": {
     "source_hidden": true
    },
    "scrolled": true
   },
   "outputs": [],
   "source": [
    "df.describe(include='all').T"
   ]
  },
  {
   "cell_type": "markdown",
   "id": "22fd0405-552d-4165-95f6-7f669f4c8e33",
   "metadata": {},
   "source": [
    "<p data-sourcepos=\"3:1-3:41\"><span style=\"color: #ffcc00;\">Code Explanation:</span></p>\n",
    "<h4 ><span style=\"color: #808080;\">df.describe().T applied to a DataFrame df which providies a summary of numerical columns and categorical columns.<br>.T -transposes the output</span></h4>"
   ]
  },
  {
   "cell_type": "code",
   "execution_count": null,
   "id": "f5e775d7",
   "metadata": {
    "jupyter": {
     "source_hidden": true
    }
   },
   "outputs": [],
   "source": [
    "df.nunique()"
   ]
  },
  {
   "cell_type": "markdown",
   "id": "84afc91c-d5b1-479b-8616-cb5fd226bbaa",
   "metadata": {},
   "source": [
    "<p data-sourcepos=\"3:1-3:41\"><span style=\"color: #ffcc00;\">Code Explanation:</span></p>\n",
    "<h4 ><span style=\"color: #808080;\">df.nunique() - Counts the number of unique values in each column</span></h4>"
   ]
  },
  {
   "cell_type": "markdown",
   "id": "6097f695-a9f9-4233-8a9d-a6a05f24e6a7",
   "metadata": {},
   "source": [
    "<h4 ><span style=\"color: #808080;\">Finding unique values in each column</span></h4>"
   ]
  },
  {
   "cell_type": "code",
   "execution_count": null,
   "id": "337b6fdc",
   "metadata": {
    "jupyter": {
     "source_hidden": true
    }
   },
   "outputs": [],
   "source": [
    "for col in df.columns:\n",
    "    print(col)\n",
    "    print(df[col].unique())"
   ]
  },
  {
   "cell_type": "markdown",
   "id": "09c7f126",
   "metadata": {},
   "source": [
    "<p><strong><span style=\"color: #99cc00;\">Interpretation:</span></strong></p>\n",
    "<ul>\n",
    "<li><span style=\"color: #808080;\">There are NAN values present in columns like embarked, deck and embark_town. These columns should be taken care in data cleaning</span></li>\n",
    "</ul>"
   ]
  },
  {
   "cell_type": "markdown",
   "id": "57b722e0",
   "metadata": {
    "jp-MarkdownHeadingCollapsed": true
   },
   "source": [
    "<div class=\"fig\">\n",
    "<div class=\"fig\">\n",
    "<h1 class=\"avatar-gutter ng-tns-c4029313283-104 ng-star-inserted\"><span style=\"color: #808080;\">Data Cleaning</span></h1>\n",
    "</div>\n",
    "</div>"
   ]
  },
  {
   "cell_type": "markdown",
   "id": "7fa3c304-e275-46a5-a5fc-09c51b45ecdc",
   "metadata": {},
   "source": [
    "<h4 ><span style=\"color: #808080;\">Finding Null values in each column</span></h4>"
   ]
  },
  {
   "cell_type": "code",
   "execution_count": null,
   "id": "57be2c0b",
   "metadata": {
    "jupyter": {
     "source_hidden": true
    }
   },
   "outputs": [],
   "source": [
    "df.isnull().sum()\n",
    "# df.isna().sum()"
   ]
  },
  {
   "cell_type": "code",
   "execution_count": null,
   "id": "e2e0dc0e",
   "metadata": {
    "jupyter": {
     "source_hidden": true
    }
   },
   "outputs": [],
   "source": [
    "df.notnull().sum()"
   ]
  },
  {
   "cell_type": "markdown",
   "id": "4870f7f3-f3b9-4ce7-854f-564bd1ba734e",
   "metadata": {},
   "source": [
    "<p data-sourcepos=\"3:1-3:41\"><span style=\"color: #ffcc00;\">Code Explanation:</span></p>\n",
    "<h4 ><span style=\"color: #808080;\">df.notnull().sum() - Gives sum of all not null unique values in each column</span></h4>"
   ]
  },
  {
   "cell_type": "markdown",
   "id": "a9eb34e9",
   "metadata": {},
   "source": [
    "<p><strong><span style=\"color: #99cc00;\">Interpretation:</span></strong></p>\n",
    "<p><strong><span style=\"color: #808080;\">From data prepration we have identified and confirmed from df.isnull().sum()that :</span></strong></p>\n",
    "<ul>\n",
    "<li><span style=\"color: #808080;\">NAN values are present in below columns </span></li>\n",
    "    <ul>\n",
    "        <li><span style=\"color: #808080;\">embarked, deck, age and embark_town</span></li>\n",
    "    </ul>\n",
    "</ul>\n",
    "\n",
    "<p><strong><span style=\"color: #808080;\">Handle Missing data:</span></strong></p>\n",
    "<li>\n",
    "    <ul>\n",
    "        <li><span style=\"color: #808080;\">Age has 117 missing values out of 891 columns. we have option to delete entire rows but it accounts to 13% of data. So we have optoin to do imputation with average age. But we have also noticed that age column is related to the gender column. It is better to populate age data as per gender of the person, this maintains data integrity.</span></li>\n",
    "    </ul>\n",
    "    \n",
    "</li>"
   ]
  },
  {
   "cell_type": "markdown",
   "id": "7c5bd977",
   "metadata": {},
   "source": [
    "<h4 ><span style=\"color: #808080;\">Calculating average basd on gender</span></h4>"
   ]
  },
  {
   "cell_type": "code",
   "execution_count": null,
   "id": "b480fc84",
   "metadata": {
    "jupyter": {
     "source_hidden": true
    }
   },
   "outputs": [],
   "source": [
    "df.groupby([\"sex\"]).agg({\"age\":[\"sum\",\"mean\",\"min\",\"max\"]}).round(0)"
   ]
  },
  {
   "cell_type": "markdown",
   "id": "5d6edfda-08de-4d74-81be-ebd0d01ce602",
   "metadata": {},
   "source": [
    "<p data-sourcepos=\"3:1-3:41\"><span style=\"color: #ffcc00;\">Code Explanation:</span></p>\n",
    "<h4 ><span style=\"color: #808080;\">df.groupby([\"sex\"]).agg({\"age\":[\"sum\",\"mean\",\"min\",\"max\"]}).round(0) -  code calculates summary statistics for the 'age' column of a DataFrame (df) grouped by the 'sex' column</span></h4>"
   ]
  },
  {
   "cell_type": "markdown",
   "id": "c4a924e2",
   "metadata": {},
   "source": [
    "<p><strong><span style=\"color: #99cc00;\">Interpretation:</span></strong></p>\n",
    "<p><strong><span style=\"color: #808080;\">Calculating average basd on gender</span></strong></p>\n",
    "<ul>\n",
    "<li><span style=\"color: #808080;\">df.groupby([\"sex\"]).agg({\"age\":[\"sum\",\"mean\",\"min\",\"max\"]}).round(0) - Gives average age based on gender: </span></li>\n",
    "    <ul>\n",
    "        <li><span style=\"color: #808080;\">male : 31 years</span></li>\n",
    "        <li><span style=\"color: #808080;\">female : 28 years</span></li>\n",
    "    </ul>\n",
    "</ul>\n",
    "<p><span style=\"color: #808080;\">We further use this gender based age to replace all NAN values in age w.r.t gender</span></p>\n"
   ]
  },
  {
   "cell_type": "markdown",
   "id": "55b54cbc",
   "metadata": {},
   "source": [
    "<h4 ><span style=\"color: #808080;\">Replacing NAN values in Age based on gender</span></h4>"
   ]
  },
  {
   "cell_type": "code",
   "execution_count": null,
   "id": "44665e6e",
   "metadata": {
    "jupyter": {
     "source_hidden": true
    }
   },
   "outputs": [],
   "source": [
    "df.loc[df['age'].isna(), 'age'] = df[df['age'].isna()]['sex'].apply(lambda x: 31 if x == 'male' else 28)\n",
    "# df.to_csv(r\"Data_age_cleaned.csv\") "
   ]
  },
  {
   "cell_type": "markdown",
   "id": "f2e168ff",
   "metadata": {},
   "source": [
    "<p data-sourcepos=\"3:1-3:41\"><span style=\"color: #ffcc00;\">Code Explanation:</span></p>\n",
    "<p><span style=\"color: #808080;\">df.loc[df['age'].isna(), 'age'] = df[df['age'].isna()]['sex'].apply(lambda x: 31 if x == 'male' else 28)</span></p>\n",
    "<p><span style=\"color: #808080;\">df.loc[df['age'].isna(), 'age']:</span></p>\n",
    "<ul>\n",
    "<li><span style=\"color: #808080;\">df. loc: selects rows from the DataFrame df based on specific conditions.</span></li>\n",
    "<li><span style=\"color: #808080;\">df['age'].isna(): This condition checks for missing values (NaN) in the 'age' column. It creates a Series of True/False values indicating which rows have missing ages.</span></li>\n",
    "<li><span style=\"color: #808080;\">, 'age': we only want to select specifically the 'age' column with NAN</span></li>\n",
    "</ul>\n",
    "<p><span style=\"color: #808080;\">= df[df['age'].isna()]['sex'].apply(...):</span></p>\n",
    "<ul>\n",
    "<li><span style=\"color: #808080;\">df[df['age'].isna()]: This part is the same as before, selecting only the rows with missing 'age' values.</span></li>\n",
    "<li><span style=\"color: #808080;\">['sex']: This selects the 'sex' column from the filtered DataFrame containing only rows with missing ages.</span></li>\n",
    "<li><span style=\"color: #808080;\">.apply(...): This applies a function (defined in the parentheses) to each value in the selected 'sex' column (which only has rows with missing ages).</span></li>\n",
    "</ul>\n",
    "<p><span style=\"color: #808080;\">lambda x: 31 if x == 'male' else 28:</span></p>\n",
    "<ul>\n",
    "<li><span style=\"color: #808080;\">lambda x: ...: (lambda function) takes a single argument x. This function will be applied to each value in the 'sex' column of the filtered rows.</span></li>\n",
    "<li><span style=\"color: #808080;\">x: This represents the current value (gender) being processed from the 'sex' column within the loop.</span></li>\n",
    "<li><span style=\"color: #808080;\">31 if x == 'male' else 28: This is a conditional expression that determines the value to be assigned based on gender (x):</span></li>\n",
    "<li><span style=\"color: #808080;\">If x (the current gender) is equal to 'male', the function returns 31.</span></li>\n",
    "<li><span style=\"color: #808080;\">Otherwise, it returns 28.</span></li>\n",
    "</ul>"
   ]
  },
  {
   "cell_type": "markdown",
   "id": "09dee14f",
   "metadata": {},
   "source": [
    "<h4 ><span style=\"color: #808080;\">Verfy if NAN values are there in Age column</span></h4>"
   ]
  },
  {
   "cell_type": "code",
   "execution_count": null,
   "id": "6331f550",
   "metadata": {
    "jupyter": {
     "source_hidden": true
    },
    "scrolled": true
   },
   "outputs": [],
   "source": [
    "df.isnull().sum()"
   ]
  },
  {
   "cell_type": "markdown",
   "id": "e3c5ec14-cb21-487c-8a9d-bc84821fe832",
   "metadata": {},
   "source": [
    "<p data-sourcepos=\"3:1-3:41\"><span style=\"color: #ffcc00;\">Code Explanation:</span></p>\n",
    "<h4 ><span style=\"color: #808080;\">df.isnull().sum() - Gives all null values in each column</span></h4>"
   ]
  },
  {
   "cell_type": "markdown",
   "id": "18bd2d7d",
   "metadata": {},
   "source": [
    "<p><strong><span style=\"color: #99cc00;\">Interpretation:</span></strong></p>\n",
    "<p><strong><span style=\"color: #808080;\">Now lets delete deck column because it has 688 entries, which accounts to ~77% of data. Its not logical to find any meaningful insigts form it</span></strong></p>"
   ]
  },
  {
   "cell_type": "markdown",
   "id": "5c380443",
   "metadata": {},
   "source": [
    "<h4 ><span style=\"color: #808080;\">Removing Deck column</span></h4>"
   ]
  },
  {
   "cell_type": "code",
   "execution_count": null,
   "id": "62fdb9f0",
   "metadata": {
    "jupyter": {
     "source_hidden": true
    }
   },
   "outputs": [],
   "source": [
    "# removing one column\n",
    "df=df.drop('deck', axis=1)\n",
    "df.head(1)"
   ]
  },
  {
   "cell_type": "markdown",
   "id": "230d5804-0f9c-4f26-af12-9d2ad3ea00b7",
   "metadata": {},
   "source": [
    "<p data-sourcepos=\"3:1-3:41\"><span style=\"color: #ffcc00;\">Code Explanation:</span></p>\n",
    "<h4 ><span style=\"color: #808080;\">df=df.drop('deck', axis=1) - Delete single column</span></h4>"
   ]
  },
  {
   "cell_type": "markdown",
   "id": "444056d0",
   "metadata": {},
   "source": [
    "<p><strong><span style=\"color: #99cc00;\">Interpretation:</span></strong></p>\n",
    "<ul>\n",
    "<li><span style=\"color: #808080;\">We can also remove other colums like: </span></li>\n",
    "    <ul>\n",
    "        <li><span style=\"color: #808080;\">survived column: It holds same values as alive column</span></li>\n",
    "        <li><span style=\"color: #808080;\">pclass : It holds same values as class column</span></li>\n",
    "        <li><span style=\"color: #808080;\">embarked : It holds same values as embark_town</span></li>\n",
    "    </ul>\n",
    "</ul>\n"
   ]
  },
  {
   "cell_type": "markdown",
   "id": "84dc862d-f5d3-4306-a5fe-64e5e1a2d59f",
   "metadata": {},
   "source": [
    "<h4 ><span style=\"color: #808080;\">Removing Survived, Pclass and Embarked column</span></h4>"
   ]
  },
  {
   "cell_type": "code",
   "execution_count": null,
   "id": "5f902627",
   "metadata": {
    "jupyter": {
     "source_hidden": true
    }
   },
   "outputs": [],
   "source": [
    "# removing multiple column\n",
    "columns_remove = ['embarked','survived','pclass']\n",
    "df = df.drop(columns = columns_remove)"
   ]
  },
  {
   "cell_type": "markdown",
   "id": "d2bc65d5-d378-4695-8204-2f11455f54fe",
   "metadata": {},
   "source": [
    "<p data-sourcepos=\"3:1-3:41\"><span style=\"color: #ffcc00;\">Code Explanation:</span></p>\n",
    "<h4 ><span style=\"color: #808080;\">columns_remove = ['embarked','survived','pclass'] - Delete multiple column</span></h4>"
   ]
  },
  {
   "cell_type": "markdown",
   "id": "7c4a2519",
   "metadata": {},
   "source": [
    "<h4 ><span style=\"color: #808080;\">Verfying if columns 'embarked', 'survived', 'pclass' are there in df</span></h4>"
   ]
  },
  {
   "cell_type": "code",
   "execution_count": null,
   "id": "1b707c0f",
   "metadata": {
    "jupyter": {
     "source_hidden": true
    }
   },
   "outputs": [],
   "source": [
    "df.columns"
   ]
  },
  {
   "cell_type": "markdown",
   "id": "f2084a3d",
   "metadata": {},
   "source": [
    "<h4 ><span style=\"color: #808080;\">Verfying if any missing values present in data</span></h4>"
   ]
  },
  {
   "cell_type": "code",
   "execution_count": null,
   "id": "1df50736",
   "metadata": {
    "jupyter": {
     "source_hidden": true
    },
    "scrolled": true
   },
   "outputs": [],
   "source": [
    "df.isnull().sum()"
   ]
  },
  {
   "cell_type": "markdown",
   "id": "922ec68a",
   "metadata": {},
   "source": [
    "<p><strong><span style=\"color: #99cc00;\">Interpretation:</span></strong></p>\n",
    "<ul>\n",
    "<li><span style=\"color: #808080;\">We have 2 missing values in embark_town column </span></li>"
   ]
  },
  {
   "cell_type": "markdown",
   "id": "a5736184",
   "metadata": {},
   "source": [
    "<h4 ><span style=\"color: #808080;\">Filling the missing values in embark_town</span></h4>"
   ]
  },
  {
   "cell_type": "code",
   "execution_count": null,
   "id": "9fbf0328",
   "metadata": {
    "jupyter": {
     "source_hidden": true
    },
    "scrolled": true
   },
   "outputs": [],
   "source": [
    "df.groupby([\"embark_town\"]).count()"
   ]
  },
  {
   "cell_type": "markdown",
   "id": "02731d6c",
   "metadata": {},
   "source": [
    "<p><strong><span style=\"color: #99cc00;\">Interpretation:</span></strong></p>\n",
    "<ul>\n",
    "<li><span style=\"color: #808080;\">We can replace missing values with Southampton(most repeated values in the column) </span></li>"
   ]
  },
  {
   "cell_type": "code",
   "execution_count": null,
   "id": "769b2592",
   "metadata": {
    "jupyter": {
     "source_hidden": true
    }
   },
   "outputs": [],
   "source": [
    "df['embark_town']=df['embark_town'].fillna(df['embark_town'].mode()[0])"
   ]
  },
  {
   "cell_type": "markdown",
   "id": "c932b402-f5db-49c4-9e76-ca3977c3997c",
   "metadata": {},
   "source": [
    "<p data-sourcepos=\"3:1-3:41\"><span style=\"color: #ffcc00;\">Code Explanation:</span></p>\n",
    "<h4 ><span style=\"color: #808080;\">df['embark_town']=df['embark_town'].fillna(df['embark_town'].mode()[0])<br>\n",
    "    Code ensures there are no missing embarkation town values by replacing them with the most common embarkation town found in the data\n",
    "</span></h4>"
   ]
  },
  {
   "cell_type": "markdown",
   "id": "663713cf",
   "metadata": {},
   "source": [
    "<h4 ><span style=\"color: #808080;\">Verfying if any missing values present in data</span></h4>"
   ]
  },
  {
   "cell_type": "code",
   "execution_count": null,
   "id": "5bae6e3d",
   "metadata": {
    "jupyter": {
     "source_hidden": true
    },
    "scrolled": true
   },
   "outputs": [],
   "source": [
    "df.isnull().sum()"
   ]
  },
  {
   "cell_type": "markdown",
   "id": "4eaa9325",
   "metadata": {},
   "source": [
    "<p><strong><span style=\"color: #99cc00;\">Interpretation:</span></strong></p>\n",
    "<ul>\n",
    "<li><span style=\"color: #808080;\">Now data does not have any missing values</span></li>"
   ]
  },
  {
   "cell_type": "markdown",
   "id": "37c8d43f",
   "metadata": {},
   "source": [
    "<h4 ><span style=\"color: #808080;\">Verfying any duplicate rows present in data</span></h4>"
   ]
  },
  {
   "cell_type": "code",
   "execution_count": null,
   "id": "bb21c211",
   "metadata": {
    "jupyter": {
     "source_hidden": true
    }
   },
   "outputs": [],
   "source": [
    "# df[df.duplicated()] #shows duplicated rows"
   ]
  },
  {
   "cell_type": "code",
   "execution_count": null,
   "id": "77cff824",
   "metadata": {
    "jupyter": {
     "source_hidden": true
    },
    "scrolled": true
   },
   "outputs": [],
   "source": [
    "df.duplicated().sum() #Gives sum of all duplicated rows"
   ]
  },
  {
   "cell_type": "markdown",
   "id": "3732ac02",
   "metadata": {},
   "source": [
    "<p><strong><span style=\"color: #99cc00;\">Interpretation:</span></strong></p>\n",
    "<p><strong><span style=\"color: #808080;\">There are duplicate 114 rows present in the data.</span></strong></p>\n",
    "<ul>\n",
    "<li><span style=\"color: #808080;\">There are duplicate rows present in the data. do we have to delete it?</span></li>\n",
    "    <ul>\n",
    "    <li><span style=\"color: #808080;\">It is noted that there are no colums which specifies unique ID</span></li>\n",
    "    <li><span style=\"color: #808080;\">These rows may seem duplicated, (Eg. fare could be same for all classes for peple with diffrent gender, or multiple person with same age group could be there, or same age group person could have boarded at specific embark town)but without unique ID we cannot delete those rows</span></li>\n",
    "    </ul>\n",
    "<p><strong><span style=\"color: #808080;\">So we are not removing duplicate rows.</span></strong></p>\n",
    "<ul>\n",
    "</ul>"
   ]
  },
  {
   "cell_type": "markdown",
   "id": "102d7c84",
   "metadata": {},
   "source": [
    "<p data-sourcepos=\"3:1-3:41\"><span style=\"color: #ffcc00;\">Code Explanation:</span></p>\n",
    "<p><span style=\"color: #808080;\">if we wanted to remove duplice rows and delete/fill NAN we can use below codes:</span></p>\n",
    "    <ul>\n",
    "    <li><span style=\"color: #808080;\">df = df.drop_duplicates()</span></li>\n",
    "    <li><span style=\"color: #808080;\">df = df.drop_duplicates(inplace=True) - to remove permanently in source data</span></li>\n",
    "    <li><span style=\"color: #808080;\">df = data.dropna()</span></li>\n",
    "    <li><span style=\"color: #808080;\">df.fillna(1, inplace=True)</span></li>    \n",
    "    </ul>\n"
   ]
  },
  {
   "cell_type": "markdown",
   "id": "460d5f6e",
   "metadata": {},
   "source": [
    "<h4 ><span style=\"color: #808080;\">Renaming of columns</span></h4>\n",
    "<ul>\n",
    "    <li><span style=\"color: #808080;\">rename sex to gender</span></li>\n",
    "    <li><span style=\"color: #808080;\">df = df.drop_duplicates(inplace=True) - to remove permanently in source data</span></li>\n",
    "    </ul>"
   ]
  },
  {
   "cell_type": "markdown",
   "id": "bac9d622",
   "metadata": {
    "jp-MarkdownHeadingCollapsed": true
   },
   "source": [
    "<div class=\"fig\">\n",
    "<div class=\"fig\">\n",
    "<h1 class=\"avatar-gutter ng-tns-c4029313283-104 ng-star-inserted\"><span style=\"color: #808080;\">Feature Engineering</span></h1>\n",
    "</div>\n",
    "</div>"
   ]
  },
  {
   "cell_type": "markdown",
   "id": "4ff72f44",
   "metadata": {},
   "source": [
    "<h4 ><span style=\"color: #808080;\">Creating New columns</span></h4>\n",
    "<ul>\n",
    "    <li><span style=\"color: #808080;\">Family size = [SibSp: number of siblings/spouse] + [Parch: number of childre/parents]</span></li>\n",
    "</ul>\n",
    "<p><span style=\"color: #808080;\">We are creating a new feature named family size</span></p>\n",
    "    "
   ]
  },
  {
   "cell_type": "code",
   "execution_count": null,
   "id": "f1930361",
   "metadata": {
    "jupyter": {
     "source_hidden": true
    },
    "scrolled": true
   },
   "outputs": [],
   "source": [
    "df[\"family_size\"] = df[\"sibsp\"] + df[\"parch\"]\n",
    "df.head(2)"
   ]
  },
  {
   "cell_type": "markdown",
   "id": "c1a66290-a703-4892-8603-8ef3ab76b8fa",
   "metadata": {},
   "source": [
    "<p data-sourcepos=\"3:1-3:41\"><span style=\"color: #ffcc00;\">Code Explanation:</span></p>\n",
    "<h4 ><span style=\"color: #808080;\">df[\"family_size\"] = df[\"sibsp\"] + df[\"parch\"] <br>\n",
    "Creates a new column by adding existing columns</span></h4>"
   ]
  },
  {
   "cell_type": "markdown",
   "id": "175b7876",
   "metadata": {},
   "source": [
    "<h4 ><span style=\"color: #808080;\">Renaming few columns</span></h4>\n",
    "<ul>\n",
    "    <li><span style=\"color: #808080;\">rename sex column as gender</span></li>\n",
    "</ul>"
   ]
  },
  {
   "cell_type": "code",
   "execution_count": null,
   "id": "462472c1",
   "metadata": {
    "jupyter": {
     "source_hidden": true
    },
    "scrolled": true
   },
   "outputs": [],
   "source": [
    "df=df.rename(columns={'sex':'gender'}) #rename a column\n",
    "df.head(2)"
   ]
  },
  {
   "cell_type": "markdown",
   "id": "419e0152",
   "metadata": {},
   "source": [
    "<p><strong><span style=\"color: #99cc00;\">Interpretation:</span></strong></p>\n",
    "<p><strong><span style=\"color: #808080;\">Data is cleaned as per requirement for analysis</span></strong></p>\n",
    "<ul>"
   ]
  },
  {
   "cell_type": "markdown",
   "id": "2a46f486",
   "metadata": {},
   "source": [
    "<div class=\"fig\">\n",
    "<div class=\"fig\">\n",
    "<h1 class=\"avatar-gutter ng-tns-c4029313283-104 ng-star-inserted\"><span style=\"color: #808080;\">Analysis [Univariate Analysis]</span></h1>\n",
    "</div>\n",
    "</div>"
   ]
  },
  {
   "cell_type": "markdown",
   "id": "1c1e76c6-b260-442f-b1bd-acda4ee4bbf2",
   "metadata": {},
   "source": [
    "<h4 ><span style=\"color: #808080;\"><strong>Univariate analysis of categorical variable<strong></span></h4>"
   ]
  },
  {
   "cell_type": "markdown",
   "id": "333a9635-f245-48ad-8f55-831907214296",
   "metadata": {},
   "source": [
    "<h4 ><span style=\"color: #808080;\">Distribution of gender</span></h4>"
   ]
  },
  {
   "cell_type": "code",
   "execution_count": null,
   "id": "743f4555",
   "metadata": {},
   "outputs": [],
   "source": [
    "gender_counts = df['gender'].value_counts()\n",
    "gender_counts\n",
    "plt.figure(figsize=(2, 2))  # Set figure size\n",
    "# sns.set_style(\"whitegrid\")  # Optional: Set chart style\n",
    "explode = [0.1, 0]\n",
    "# palette_color = seaborn.color_palette('bright') \n",
    "# plt.pie(gender_counts, labels=gender_counts.index, explode=explode, colors=palette_color, autopct=\"%1.1f%%\")  # Plot pie chart with labels and percentages\n",
    "plt.pie(gender_counts, labels=gender_counts.index, explode=explode,autopct=\"%1.1f%%\") \n",
    "plt.title(\"Distribution of Gender\")\n",
    "plt.show();"
   ]
  },
  {
   "cell_type": "markdown",
   "id": "1ff378bc-bd5e-4d21-b50f-5e0ac08ceefb",
   "metadata": {},
   "source": [
    "<p><strong><span style=\"color: #99cc00;\">Interpretation:</span></strong></p>\n",
    "<p><strong><span style=\"color: #808080;\">Titanic carried ~65% of male gender</span></strong></p>\n",
    "<ul>"
   ]
  },
  {
   "cell_type": "markdown",
   "id": "92e3c573-2306-4d2e-8d37-2ca181448c36",
   "metadata": {},
   "source": [
    "<h4 ><span style=\"color: #808080;\">Distribution of Who(male, female and child)</span></h4>"
   ]
  },
  {
   "cell_type": "code",
   "execution_count": null,
   "id": "38deb5b6",
   "metadata": {
    "scrolled": true
   },
   "outputs": [],
   "source": [
    "who_counts = df['who'].value_counts()\n",
    "\n",
    "plt.figure(figsize=(3, 3))  # Set figure size\n",
    "sns.set_style(\"whitegrid\")  # Optional: Set chart style\n",
    "explode = [0.1, 0, 0] #explode first value by 10%\n",
    "plt.pie(who_counts, labels=who_counts.index, explode=explode, autopct=\"%1.1f%%\") #plots pie chart\n",
    "plt.title(\"Distribution of man, vs. women vs. child\") #Title\n",
    "plt.show() # plot the graph"
   ]
  },
  {
   "cell_type": "markdown",
   "id": "a07e6cbb-e1fc-4fa0-a33e-647d0fb9acbc",
   "metadata": {},
   "source": [
    "<p><strong><span style=\"color: #99cc00;\">Interpretation:</span></strong></p>\n",
    "<p><strong><span style=\"color: #808080;\">Titanic carried ~60% of men</span></strong></p>\n",
    "<ul>"
   ]
  },
  {
   "cell_type": "markdown",
   "id": "09d2fdb8-cd37-4ae6-8cda-f97c564122e2",
   "metadata": {},
   "source": [
    "<h4 ><span style=\"color: #808080;\">Distribution of Adults male vs. (Female + children)</span></h4>"
   ]
  },
  {
   "cell_type": "code",
   "execution_count": null,
   "id": "2c54f1b7-9d2b-4fed-be74-0662f6c88524",
   "metadata": {
    "jupyter": {
     "source_hidden": true
    },
    "scrolled": true
   },
   "outputs": [],
   "source": [
    "adult_male_counts = df['adult_male'].value_counts()  # Count occurrences of True/False\n",
    "\n",
    "# Create a dictionary to map True/False to \"Adults\" and \"Non Adults\"\n",
    "label_mapping = {True: \"Adult Male\", False: \"Female & children\"}\n",
    "\n",
    "# Apply the mapping to the index of adult_male_counts\n",
    "adult_male_counts_labeled = adult_male_counts.rename(index=label_mapping)\n",
    "\n",
    "plt.figure(figsize=(3, 3)) # Sets the figure size\n",
    "explode = [0.1, 0]\n",
    "plt.pie(adult_male_counts_labeled, labels=adult_male_counts_labeled.index, explode=explode, autopct=\"%1.1f%%\") #Annote values with a single decimal\n",
    "plt.title(\"Distribution of Adults vs. Non Adults\") # Title\n",
    "plt.show() #Show graph"
   ]
  },
  {
   "cell_type": "markdown",
   "id": "5d91c669-49d6-4300-ad0d-271767a62e8e",
   "metadata": {},
   "source": [
    "<p><strong><span style=\"color: #99cc00;\">Interpretation:</span></strong></p>\n",
    "<p><strong><span style=\"color: #808080;\">Titanic carried ~60% of Adults male and 40% of Female + children</span></strong></p>\n",
    "<ul>"
   ]
  },
  {
   "cell_type": "markdown",
   "id": "58cf2aa9-ccdc-41ad-8ac5-bbd7d6f3db8c",
   "metadata": {},
   "source": [
    "<h4 ><span style=\"color: #808080;\">Distribution of Solo Travel vs. Accompanied Travel</span></h4>"
   ]
  },
  {
   "cell_type": "code",
   "execution_count": null,
   "id": "bd035e84-b3f7-48e8-9ec1-4e91a95866a0",
   "metadata": {
    "jupyter": {
     "source_hidden": true
    }
   },
   "outputs": [],
   "source": [
    "alone_counts = df['alone'].value_counts()  # Count occurrences of True/False\n",
    "\n",
    "# Create a dictionary to map True/False to \"Adults\" and \"Non Adults\"\n",
    "label_mapping = {True: \"Solo Travel\", False: \"Accompanied travel\"}\n",
    "\n",
    "# Apply the mapping to the index of adult_male_counts\n",
    "alone_counts_labeled = alone_counts.rename(index=label_mapping)\n",
    "\n",
    "plt.figure(figsize=(3, 3)) # set figure size\n",
    "explode = [0.1, 0] # explode first value in graph by 10%\n",
    "plt.pie(alone_counts_labeled, labels=alone_counts_labeled.index, explode=explode, autopct=\"%1.1f%%\") #plot pie chart with labels, autopct=\"%1.1f%%\"- gives single decimal annotation\n",
    "# plt.title(\"Distribution of Solo Travel vs. Accompanied Travel\") Title\n",
    "plt.show() # plot graph"
   ]
  },
  {
   "cell_type": "markdown",
   "id": "ff4a4448-85e3-466c-b3a6-8e0b4d5d0a3f",
   "metadata": {},
   "source": [
    "<p><strong><span style=\"color: #99cc00;\">Interpretation:</span></strong></p>\n",
    "<p><strong><span style=\"color: #808080;\">~60% are Solo travelers in Titanic Voyage</span></strong></p>\n",
    "<ul>"
   ]
  },
  {
   "cell_type": "markdown",
   "id": "4e45d2c3-868a-4f6f-85e8-c5cc8338f389",
   "metadata": {},
   "source": [
    "<h4 ><span style=\"color: #808080;\">Distribution of Embarkation Town</span></h4>"
   ]
  },
  {
   "cell_type": "code",
   "execution_count": null,
   "id": "860444ed-12aa-49bb-a18d-f733f4f4486b",
   "metadata": {
    "jupyter": {
     "source_hidden": true
    }
   },
   "outputs": [],
   "source": [
    "embark_town_counts = df['embark_town'].value_counts()\n",
    "plt.figure(figsize=(3, 3)) # set figure size\n",
    "sns.set_style(\"darkgrid\") #set style\n",
    "explode = [0.1, 0, 0] # explode\n",
    "plt.pie(embark_town_counts, labels=embark_town_counts.index, explode=explode, autopct=\"%1.1f%%\")  # Plot pie chart with labels and percentages\n",
    "plt.title(\"Distribution of Embarkation Town\") # Title\n",
    "plt.show() # Plot graph"
   ]
  },
  {
   "cell_type": "markdown",
   "id": "1ceabd40-e753-47ed-9f10-d9a874c8dddd",
   "metadata": {},
   "source": [
    "<p><strong><span style=\"color: #99cc00;\">Interpretation:</span></strong></p>\n",
    "<p><strong><span style=\"color: #808080;\">~73% of passengers have embarked from Southampton, ~19% from Cherbourg & ~9% from Queens town</span></strong></p>\n",
    "<ul>"
   ]
  },
  {
   "cell_type": "markdown",
   "id": "ca8294e4-79e2-4cfa-bc17-7f0bcdf5d5aa",
   "metadata": {},
   "source": [
    "<h4 ><span style=\"color: #808080;\">Distribution different classes in Titanic</span></h4>"
   ]
  },
  {
   "cell_type": "code",
   "execution_count": null,
   "id": "d13c1173",
   "metadata": {
    "jupyter": {
     "source_hidden": true
    }
   },
   "outputs": [],
   "source": [
    "class_counts = df['class'].value_counts()\n",
    "\n",
    "plt.figure(figsize=(3, 3)) # set figure size\n",
    "sns.set_style(\"whitegrid\") #select style\n",
    "explode = [0.1, 0, 0] # set explode for values\n",
    "plt.pie(class_counts, labels=class_counts.index, explode=explode, autopct=\"%1.1f%%\")  # Plot pie chart with labels and percentages\n",
    "plt.title(\"Distribution different classes in Titanic\") # Title\n",
    "plt.show() # Plot graph"
   ]
  },
  {
   "cell_type": "markdown",
   "id": "fef6bbbf-4b06-4cec-9c86-1f955a571099",
   "metadata": {},
   "source": [
    "<p><strong><span style=\"color: #99cc00;\">Interpretation:</span></strong></p>\n",
    "<p><strong><span style=\"color: #808080;\">Titanic carried ~55% of passengers in third class, 21% from second class and 24% from third class</span></strong></p>\n",
    "<ul>"
   ]
  },
  {
   "cell_type": "markdown",
   "id": "05e095b9-083a-4411-a75e-c61f39644fd3",
   "metadata": {},
   "source": [
    "<h4 ><span style=\"color: #808080;\">Distribution of Alive vs. Titanic victims</span></h4>"
   ]
  },
  {
   "cell_type": "code",
   "execution_count": null,
   "id": "03635a70",
   "metadata": {
    "jupyter": {
     "source_hidden": true
    }
   },
   "outputs": [],
   "source": [
    "alive_counts = df['alive'].value_counts()  # Count occurrences of True/False\n",
    "\n",
    "# Create a dictionary to map True/False to \"Adults\" and \"Non Adults\"\n",
    "label_mapping = {\"yes\": \"Alive\", \"no\": \"Titanic victims\"}\n",
    "\n",
    "# Apply the mapping to the index of adult_male_counts\n",
    "alive_counts_labeled = alive_counts.rename(index=label_mapping)\n",
    "\n",
    "plt.figure(figsize=(3, 3)) # set figure size\n",
    "explode = [0.1, 0]\n",
    "plt.pie(alive_counts_labeled, labels=alive_counts_labeled.index, explode=explode, autopct=\"%1.1f%%\")\n",
    "plt.title(\"Distribution of Alive vs. Titanic victims\")\n",
    "plt.show()"
   ]
  },
  {
   "cell_type": "markdown",
   "id": "6c207ecc-fd5f-4a90-8a0a-11e32817d0a9",
   "metadata": {},
   "source": [
    "<p><strong><span style=\"color: #99cc00;\">Interpretation:</span></strong></p>\n",
    "<p><strong><span style=\"color: #808080;\">Almost 62% of passengers deceased in Titanic disaster</span></strong></p>\n",
    "<ul>"
   ]
  },
  {
   "cell_type": "markdown",
   "id": "fa9ffd0e-74a2-40fb-baee-ea57265c76c8",
   "metadata": {},
   "source": [
    "<h4 ><span style=\"color: #808080;\"><strong>Univariate analysis of Numerical variable<strong></span></h4>"
   ]
  },
  {
   "cell_type": "markdown",
   "id": "e904ee10-d0aa-4fae-b498-ffb9c2c3d778",
   "metadata": {},
   "source": [
    "<h4 ><span style=\"color: #808080;\">Distribution of Age among passengers</span></h4>"
   ]
  },
  {
   "cell_type": "code",
   "execution_count": null,
   "id": "84168340",
   "metadata": {},
   "outputs": [],
   "source": [
    "fig, (ax1, ax2) = plt.subplots(2)\n",
    "ax1.hist(df['age']) #plot histogram\n",
    "ax1.set(title='Age Distribution', ylabel='count') #Assign labels and title\n",
    "\n",
    "ax2.boxplot(df['age'], labels=['All'], vert=False, showmeans=True, showfliers=True)  # Show means as diamonds & plot box plot\n",
    "ax2.set(ylabel='age',xlabel='age'); #Assign labels and title\n",
    "\n",
    "display(df[\"age\"].describe())"
   ]
  },
  {
   "cell_type": "markdown",
   "id": "95d87cfb-a9cf-44aa-a41c-48718aa80f33",
   "metadata": {},
   "source": [
    "<p><strong><span style=\"color: #99cc00;\">Interpretation:</span></strong></p>\n",
    "<p><strong><span style=\"color: #808080;\">Age is almost normally distributed (mean and median are very close). Ranging from infants to 80-year-old passengers</span></strong></p>\n",
    "<ul>"
   ]
  },
  {
   "cell_type": "markdown",
   "id": "922fa6f8-d2cf-4c5e-819e-c6944594aa98",
   "metadata": {},
   "source": [
    "<h4 ><span style=\"color: #808080;\">Distribution of siblings and spouse</span></h4>"
   ]
  },
  {
   "cell_type": "code",
   "execution_count": null,
   "id": "9d51ea5c-2c1d-407a-b9bf-94d3202b1504",
   "metadata": {
    "jupyter": {
     "source_hidden": true
    }
   },
   "outputs": [],
   "source": [
    "sibsp_plot=df[\"sibsp\"].value_counts()\n",
    "display(sibsp_plot)\n",
    "# creates a DataFrame that shows the number of passengers who had a specific number of siblings/spouses (sibsp) on board the Titanic"
   ]
  },
  {
   "cell_type": "markdown",
   "id": "7082a7b5-275b-4513-b139-4c765298c71b",
   "metadata": {},
   "source": [
    "<p><strong><span style=\"color: #99cc00;\">Interpretation:</span></strong></p>\n",
    "<p><strong><span style=\"color: #808080;\">Majority of people are accompanied by single family member.\n",
    "   <br> Note: 0 specifies solo travel</span></strong></p>\n",
    "<ul>"
   ]
  },
  {
   "cell_type": "markdown",
   "id": "c0531c90-1ab4-471a-aafd-34eeabefa523",
   "metadata": {},
   "source": [
    "<h4 ><span style=\"color: #808080;\">Distribution of accompanied passengers (by siblings, spouse, parents and children)</span></h4>"
   ]
  },
  {
   "cell_type": "code",
   "execution_count": null,
   "id": "37f58c9a-6359-46bb-a0a9-46c7a1eec8a7",
   "metadata": {},
   "outputs": [],
   "source": [
    "fig, axs = plt.subplots(nrows=1, ncols=2, figsize=(10, 3))  # Corrected variable name (axs)\n",
    "\n",
    "sns.histplot(df['parch'], ax=axs[0], kde=True)  # Include kernel density estimation (optional)\n",
    "sns.histplot(df['sibsp'], ax=axs[1], kde=True)   # Include kernel density estimation (optional)\n",
    "\n",
    "# Customize labels and title\n",
    "fig.suptitle('Distribution of Accompanied Passengers on the Titanic', fontsize=14, fontweight='bold')\n",
    "axs[0].set_xlabel('Number of Parents/Children (Parch)', fontsize=12)\n",
    "axs[1].set_xlabel('Number of Siblings/Spouses (SibSp)', fontsize=12)\n",
    "axs[0].set_ylabel('Frequency', fontsize=12)\n",
    "axs[1].set_ylabel('Frequency', fontsize=12)\n",
    "\n",
    "# Set x-axis limits\n",
    "axs[0].set_xlim([1, 8])\n",
    "axs[1].set_xlim([1, 8])\n",
    "\n",
    "plt.tight_layout()\n",
    "plt.show()\n"
   ]
  },
  {
   "cell_type": "markdown",
   "id": "c6065091-91c4-4e6a-ae37-0749d9495ab4",
   "metadata": {},
   "source": [
    "<p><strong><span style=\"color: #99cc00;\">Interpretation:</span></strong></p>\n",
    "<p><strong><span style=\"color: #808080;\">Majority of people are accompanied by either parents and children, compared to siblings or spouse.\n",
    "   <br> Note: 0 specifies solo travel and it is ignored for observing acompanied travel</span></strong></p>\n",
    "<ul>"
   ]
  },
  {
   "cell_type": "markdown",
   "id": "2a5e6a1d-ddca-4887-82b5-56a6cfef01de",
   "metadata": {},
   "source": [
    "<h4 ><span style=\"color: #808080;\">Distribution of Fare among passengers</span></h4>"
   ]
  },
  {
   "cell_type": "code",
   "execution_count": null,
   "id": "b27dfa30-0a31-4fb2-be94-4d6bca45c101",
   "metadata": {
    "jupyter": {
     "source_hidden": true
    }
   },
   "outputs": [],
   "source": [
    "fig, (ax1, ax2) = plt.subplots(2, figsize=(10,3)) # set figure size\n",
    "\n",
    "# Plot histogram\n",
    "ax1.hist(df['fare'])\n",
    "ax1.set(title='Fare Distribution', xlabel='fare', ylabel='count')\n",
    "\n",
    "# Plot Boxplot\n",
    "ax2.boxplot(df['fare'], labels=['All'], vert=False, showfliers=True)\n",
    "ax2.set(ylabel='fare');\n",
    "\n",
    "# Summary stats of fare\n",
    "print(\"summary stas of Fare:\")\n",
    "display(df[\"fare\"].describe().round(1))"
   ]
  },
  {
   "cell_type": "markdown",
   "id": "f66092d9-cb2e-4c0e-8079-0cc7fccb2380",
   "metadata": {},
   "source": [
    "<p><strong><span style=\"color: #99cc00;\">Interpretation:</span></strong></p>\n",
    "<p><strong><span style=\"color: #808080;\">Average price paid for voyage is $32 (USD). $14 (USD) is the most purchased ticket</span></strong></p>\n",
    "<ul>"
   ]
  },
  {
   "cell_type": "markdown",
   "id": "732d76f7-a284-4079-bf70-73884cb8aad9",
   "metadata": {},
   "source": [
    "<h4 ><span style=\"color: #808080;\">Family Size Distribution</span></h4>"
   ]
  },
  {
   "cell_type": "code",
   "execution_count": null,
   "id": "2e1aa060-ffd9-4bba-9dbc-8ff0f5139b2b",
   "metadata": {
    "jupyter": {
     "source_hidden": true
    }
   },
   "outputs": [],
   "source": [
    "fig, (ax1) = plt.subplots(1,figsize=(10,2)) # set figure size\n",
    "\n",
    "# Plot Histogram with labels and title\n",
    "sns.histplot(df['family_size'], color = \"skyblue\", kde=True)\n",
    "plt.xlabel('Family Size')\n",
    "plt.ylabel('Count')\n",
    "plt.title('Family Size Distribution')\n",
    "plt.show()\n"
   ]
  },
  {
   "cell_type": "markdown",
   "id": "7d1b3288-c757-4c5b-a7ac-fb56d802b4df",
   "metadata": {},
   "source": [
    "<p><strong><span style=\"color: #99cc00;\">Interpretation:</span></strong></p>\n",
    "<p><strong><span style=\"color: #808080;\">Solo travelers has highest head count. Followed by single companions and so on...</span></strong></p>\n",
    "<ul>"
   ]
  },
  {
   "cell_type": "markdown",
   "id": "3b0ad8f0-7626-4992-b934-86462b23d5fe",
   "metadata": {},
   "source": [
    "<div class=\"fig\">\n",
    "<div class=\"fig\">\n",
    "<h1 class=\"avatar-gutter ng-tns-c4029313283-104 ng-star-inserted\"><span style=\"color: #808080;\">Analysis [Bi-Variate Analysis]</span></h1>\n",
    "</div>\n",
    "</div>"
   ]
  },
  {
   "cell_type": "markdown",
   "id": "0efb2875-17f8-4948-a5d1-f72e997b56d8",
   "metadata": {},
   "source": [
    "<h4 ><span style=\"color: #808080;\">Distribution of Age vs. Gender</span></h4>"
   ]
  },
  {
   "cell_type": "code",
   "execution_count": null,
   "id": "eaab637d-ff74-4055-9b72-c135599ec1df",
   "metadata": {},
   "outputs": [],
   "source": [
    "# plot histogram for age and gender as second variable\n",
    "sns.displot(data=df, x='age', hue='gender', aspect=2)\n",
    "plt.title(\"Distribution of Age vs. Gender\");"
   ]
  },
  {
   "cell_type": "markdown",
   "id": "d8d8b5b7-aef6-49e2-b70c-95fbc1a6a8a3",
   "metadata": {},
   "source": [
    "<p><strong><span style=\"color: #99cc00;\">Interpretation:</span></strong></p>\n",
    "<p><strong><span style=\"color: #808080;\">Male gender has more head count compared to female in all the age groups. Significant head count of female passengers are observed in age group of 29</span></strong></p>\n",
    "<ul>"
   ]
  },
  {
   "cell_type": "markdown",
   "id": "e47c91ee-3b1c-4932-8469-69b45c02a87d",
   "metadata": {},
   "source": [
    "<h4 ><span style=\"color: #808080;\">Distribution of Gender vs. Type of Passenger</span></h4>"
   ]
  },
  {
   "cell_type": "code",
   "execution_count": null,
   "id": "398a6a22-9396-485b-9a26-ce2091bc47b4",
   "metadata": {},
   "outputs": [],
   "source": [
    "# Create and print a cross table/Contigency table of 2 varaibles\n",
    "gender_by_who = pd.crosstab(df['who'], \n",
    "                         df['gender'], \n",
    "                         values=df['age'], \n",
    "                         aggfunc='count',\n",
    "                           normalize=\"columns\")*100\n",
    "gender_by_who"
   ]
  },
  {
   "cell_type": "code",
   "execution_count": null,
   "id": "e6bb88c5-167f-48e5-b86f-463721f4efd3",
   "metadata": {},
   "outputs": [],
   "source": [
    "# Create and print a cross table/Contigency table of 2 varaibles\n",
    "gender_by_who = pd.crosstab(df['who'], \n",
    "                         df['gender'], \n",
    "                         values=df['gender'], \n",
    "                         aggfunc='count',\n",
    "                           normalize=\"index\")\n",
    "\n",
    "gender_by_who_pct=gender_by_who.style.format(\"{:.0%}\") #show as percentage\n",
    "display(gender_by_who_pct)\n",
    "\n",
    "# PLot heat map\n",
    "print(\"\\nValues in count:\")\n",
    "plt.figure(figsize=(4,2.5)) # set figure size\n",
    "sns.heatmap((gender_by_who)*100, annot=True, fmt='.0f', cmap=\"YlGnBu\")\n",
    "plt.title(\"Distribution of Gender vs. Type of Passenger\")\n",
    "plt.show()"
   ]
  },
  {
   "cell_type": "markdown",
   "id": "bc0b84ac-9582-4743-9480-6b8b48034e40",
   "metadata": {},
   "source": [
    "<p><strong><span style=\"color: #99cc00;\">Interpretation:</span></strong></p>\n",
    "<p><strong><span style=\"color: #808080;\">Children are almost distributed equally in terms of gender (male - 52% and female - 48%)</span></strong></p>\n",
    "<ul>"
   ]
  },
  {
   "cell_type": "markdown",
   "id": "c298ff83-34bd-4ae7-8303-1e510cafceec",
   "metadata": {},
   "source": [
    "<h4 ><span style=\"color: #808080;\">Distribution of Gender vs. Travel Type(Class)</span></h4>"
   ]
  },
  {
   "cell_type": "code",
   "execution_count": null,
   "id": "25fda79e-e1cc-4865-969c-58802e345f4a",
   "metadata": {},
   "outputs": [],
   "source": [
    "# Create and print a cross table of 2 varaibles\n",
    "gender_by_class = pd.crosstab(df['class'], \n",
    "                         df['gender'], \n",
    "                         values=df['class'], \n",
    "                         aggfunc='count',\n",
    "                             normalize=\"index\")\n",
    "display(gender_by_class.style.format(\"{:.0%}\")) #Show as percentage\n",
    "\n",
    "# PLot heat map\n",
    "print(\"\\nValues in %:\")\n",
    "fig, ax = plt.subplots(figsize=(3,2.5)) # set figure size\n",
    "sns.heatmap((gender_by_class)*100, annot=True, fmt='.0f', cmap=\"icefire\")\n",
    "plt.title(\"Distribution of Gender vs. Class\")\n",
    "ax.set_ylabel('Class')\n",
    "ax.set_xlabel('Gender');"
   ]
  },
  {
   "cell_type": "markdown",
   "id": "876cf92f-aadb-4afb-87fe-733f8be9ee36",
   "metadata": {},
   "source": [
    "<p><strong><span style=\"color: #99cc00;\">Interpretation:</span></strong></p>\n",
    "<p><strong><span style=\"color: #808080;\">Female travelers prefers to travel in First and second class. Whereas male passengers prefer third class. (This could be based on affordability of passengers and comfort) </span></strong></p>\n",
    "<ul>"
   ]
  },
  {
   "cell_type": "markdown",
   "id": "850db2ca-a3fd-4c29-8959-453bae4f2379",
   "metadata": {},
   "source": [
    "<h4 ><span style=\"color: #808080;\">Distribution of Gender vs. Embarkation Town</span></h4>"
   ]
  },
  {
   "cell_type": "code",
   "execution_count": null,
   "id": "6a0ca4d6-97cc-42de-8686-e61738240e66",
   "metadata": {},
   "outputs": [],
   "source": [
    "# Create and print a cross table of 2 varaibles\n",
    "print(\"Values in count:\")\n",
    "gender_by_embark_town = pd.crosstab(df['embark_town'], \n",
    "                         df['gender'], \n",
    "                         values=df['gender'], \n",
    "                         aggfunc='count')\n",
    "display(gender_by_embark_town)\n",
    "\n",
    "# Calculate percentages (normalize by row or column totals)\n",
    "gender_by_embark_town_pct = (gender_by_embark_town.div(gender_by_embark_town.sum(axis=1), axis=0) * 100).round(2)\n",
    "print(\"\\n Values in %:\")\n",
    "print(gender_by_embark_town_pct)\n",
    "print(\"\\n Values in %:\")\n",
    "(gender_by_embark_town_pct).style.background_gradient(cmap= \"Spectral\") # Highlight cells based on values"
   ]
  },
  {
   "cell_type": "markdown",
   "id": "2b6f0f17-d296-4b50-b859-4decade58ad0",
   "metadata": {},
   "source": [
    "<p><strong><span style=\"color: #99cc00;\">Interpretation:</span></strong></p>\n",
    "<p><strong><span style=\"color: #808080;\">Southampton has notable male passengers. Queenstown & Cherbourg has almost equal distribution of gender</span></strong></p>\n",
    "<ul>"
   ]
  },
  {
   "cell_type": "markdown",
   "id": "4e522329-e6d6-4e1b-9fee-d234ac4c3c16",
   "metadata": {},
   "source": [
    "<h4 ><span style=\"color: #808080;\">Distribution of Mortality vs. Gender</span></h4>"
   ]
  },
  {
   "cell_type": "code",
   "execution_count": null,
   "id": "4a174023-6ff6-43ee-aeb8-1d38eaa4ad29",
   "metadata": {},
   "outputs": [],
   "source": [
    "# Create and print a cross table of 2 varaibles\n",
    "gender_by_alive = pd.crosstab(df['alive'], \n",
    "                         df['gender'], \n",
    "                         values=df['gender'], \n",
    "                         aggfunc='count',\n",
    "                             normalize = \"index\")\n",
    "display(gender_by_alive.style.format(\"{:.0%}\")) # show values as %\n",
    "print(\"\\n Values in count:\")\n",
    "\n",
    "gender_by_alive_count = pd.crosstab(df['alive'], \n",
    "                         df['gender'], \n",
    "                         values=df['gender'], \n",
    "                         aggfunc='count')\n",
    "\n",
    "# Highlight cells based on values\n",
    "gender_by_alive_count.style.background_gradient(cmap= \"rocket_r\")"
   ]
  },
  {
   "cell_type": "markdown",
   "id": "6639b5d0-5ce7-463e-add7-a60a5194054c",
   "metadata": {},
   "source": [
    "<p><strong><span style=\"color: #99cc00;\">Interpretation:</span></strong></p>\n",
    "<p><strong><span style=\"color: #808080;\">It is clear that 68% are female survivors, compared to male </span></strong></p>\n",
    "<ul>"
   ]
  },
  {
   "cell_type": "markdown",
   "id": "c3829006-bda2-4266-abfc-b1529ccc535e",
   "metadata": {},
   "source": [
    "<h4 ><span style=\"color: #808080;\">Solo Travel vs. Gender</span></h4>"
   ]
  },
  {
   "cell_type": "code",
   "execution_count": null,
   "id": "8d887eeb-ae89-4725-aae2-dd139a732886",
   "metadata": {
    "jupyter": {
     "source_hidden": true
    }
   },
   "outputs": [],
   "source": [
    "# Create and print a cross table of 2 varaibles\n",
    "gender_by_alone = pd.crosstab(df['alone'], \n",
    "                         df['gender'], \n",
    "                         values=df['gender'], \n",
    "                         aggfunc='count')\n",
    "\n",
    "# Normalize the values as percentage based on rows(\"index\")\n",
    "gender_by_alone_pct =gender_by_alone = pd.crosstab(df['alone'], \n",
    "                         df['gender'], \n",
    "                         values=df['gender'], \n",
    "                         aggfunc='count',\n",
    "                         normalize = \"index\") \n",
    "display(gender_by_alone_pct.style.format(\"{:.0%}\"))\n",
    "print(\"\\nValues in Count:\")\n",
    "\n",
    "gender_by_alone.style.background_gradient(cmap= \"gist_yarg\") # Highlight cells based on values"
   ]
  },
  {
   "cell_type": "markdown",
   "id": "6dca4f2c-5d15-4b00-95d3-98d0f1d3b931",
   "metadata": {},
   "source": [
    "<p><strong><span style=\"color: #99cc00;\">Interpretation:</span></strong></p>\n",
    "<p><strong><span style=\"color: #808080;\">It is noted that 76% of male travelers accounts to solo travel</span></strong></p>\n",
    "<ul>"
   ]
  },
  {
   "cell_type": "markdown",
   "id": "f5fcd99d-8565-40aa-91a5-3939e6661569",
   "metadata": {},
   "source": [
    "<h4 ><span style=\"color: #808080;\">Distribution of Age vs. fare</span></h4>"
   ]
  },
  {
   "cell_type": "code",
   "execution_count": null,
   "id": "a79ed849-218d-4b6c-ad0a-6646e3d5fb8e",
   "metadata": {
    "scrolled": true
   },
   "outputs": [],
   "source": [
    "# Create and print a pivot/cross table of 2 varaibles\n",
    "age_by_fare = df.groupby(['age'], as_index=False).agg({'fare': 'mean'}).round(2)\n",
    "display(age_by_fare.style.background_gradient(cmap= \"gist_yarg\")) # Highlight cells based on values"
   ]
  },
  {
   "cell_type": "code",
   "execution_count": null,
   "id": "5d0657d6-da01-48e1-b43b-39094562ee46",
   "metadata": {},
   "outputs": [],
   "source": [
    "fig, ax1 = plt.subplots(figsize=(10, 2)) # set figure size\n",
    "age_by_fare.plot(kind='area', ax=ax1, stacked=False, cmap= \"tab20c_r\")\n",
    "ax1.set(ylabel='Fare', title='Age vs. Fare (in USD)');"
   ]
  },
  {
   "cell_type": "markdown",
   "id": "538927c0-8ab1-4b89-aa06-228a1897783d",
   "metadata": {},
   "source": [
    "<p><strong><span style=\"color: #99cc00;\">Interpretation:</span></strong></p>\n",
    "<p><strong><span style=\"color: #808080;\">There is no clear relation between age and fare</span></strong></p>\n",
    "<ul>"
   ]
  },
  {
   "cell_type": "markdown",
   "id": "d6cb55d2-303d-4911-9c56-c36425b6acf5",
   "metadata": {},
   "source": [
    "<h4 ><span style=\"color: #808080;\">Distribution of Class vs. Gender</span></h4>"
   ]
  },
  {
   "cell_type": "code",
   "execution_count": null,
   "id": "a1e09bee-90b1-48d2-b270-aa7144184102",
   "metadata": {},
   "outputs": [],
   "source": [
    "# Create and print a pivot/cross table of 2 varaibles\n",
    "class_by_fare = df.groupby(['class'], as_index=False).agg({'fare': 'mean'}).round(2)\n",
    "class_by_fare\n",
    "class_by_fare.style.background_gradient(cmap= \"tab20c_r\") # Highlight cells based on values"
   ]
  },
  {
   "cell_type": "markdown",
   "id": "950b9213-df4e-4364-9aa9-2420af08e7fe",
   "metadata": {},
   "source": [
    "<p><strong><span style=\"color: #99cc00;\">Interpretation:</span></strong></p>\n",
    "<p><strong><span style=\"color: #808080;\">Average fare of first class is $84.15(USD), second class fare is $21 (USD) and third class fare is $14 (USD). First class fare is almost 4 times the fare of second class</span></strong></p>\n",
    "<ul>"
   ]
  },
  {
   "cell_type": "markdown",
   "id": "8d551986-2a76-4d84-9503-7fa00f98caa3",
   "metadata": {},
   "source": [
    "<h4 ><span style=\"color: #808080;\">Distribution of Type of passengers vs. Fare</span></h4>"
   ]
  },
  {
   "cell_type": "code",
   "execution_count": null,
   "id": "5bdea168-51be-4c7e-a540-83b373f32852",
   "metadata": {},
   "outputs": [],
   "source": [
    "# Create and print a pivot/cross table of 2 varaibles\n",
    "who_by_fare = (df.groupby(['who'], as_index=False).agg({'fare': 'mean'}).round(2))\n",
    "who_by_fare\n",
    "display(who_by_fare.style.background_gradient(cmap= \"inferno\")) # Highlight cells based on values\n",
    "\n",
    "# Plot bar chart\n",
    "sns.barplot(x=\"who\", y=\"fare\", data=who_by_fare)\n",
    "plt.xlabel(\"Passenger Type\")\n",
    "plt.ylabel(\"Average Fare (USD)\")\n",
    "plt.title(\"Average Fare by Passenger Type\")\n",
    "plt.xticks(rotation=0) \n",
    "\n",
    "# Add values on top of each bar\n",
    "for i, value in enumerate(who_by_fare[\"fare\"]):\n",
    "    plt.text(i, value + 1, f\"{value:.2f}\", ha='center', va='bottom')  # Adjust y-axis offset for better visibility\n",
    "# plt.tight_layout() \n",
    "plt.show()"
   ]
  },
  {
   "cell_type": "markdown",
   "id": "ce46ee1b-2424-4cc7-a3b2-f35fa805b953",
   "metadata": {},
   "source": [
    "<p><strong><span style=\"color: #99cc00;\">Interpretation:</span></strong></p>\n",
    "<p><strong><span style=\"color: #808080;\">Women had purchased expensive tickets. Followed by children and male passengers</span></strong></p>\n",
    "<ul>"
   ]
  },
  {
   "cell_type": "markdown",
   "id": "04f61854-fa61-41b7-a849-af5686f769e3",
   "metadata": {},
   "source": [
    "<h4 ><span style=\"color: #808080;\">Embarkation Town vs. Fare</span></h4>"
   ]
  },
  {
   "cell_type": "code",
   "execution_count": null,
   "id": "dcebd280-c7bf-4c76-8f01-905410cc59a4",
   "metadata": {
    "jupyter": {
     "source_hidden": true
    }
   },
   "outputs": [],
   "source": [
    "# Create and print a pivot/cross table of 2 varaibles\n",
    "embark_by_fare = (df.groupby(['embark_town'], as_index=False).agg({'fare': 'mean'}).round(2))\n",
    "embark_by_fare\n",
    "display(embark_by_fare.style.background_gradient(cmap= \"seismic_r\")) # Highlight cells based on values\n",
    "\n",
    "# Plot bar chart\n",
    "sns.barplot(x=\"embark_town\", y=\"fare\", data=embark_by_fare)\n",
    "plt.xlabel(\"Embark_town\")\n",
    "plt.ylabel(\"Average Fare (USD)\")\n",
    "plt.title(\"Average Fare by Embark_town\")\n",
    "plt.xticks(rotation=0) \n",
    "# plt.figure(figsize=(4, 3))\n",
    "\n",
    "# Add values on top of each bar\n",
    "for i, value in enumerate(embark_by_fare[\"fare\"]):\n",
    "    plt.text(i, value + 1, f\"{value:.2f}\", ha='center', va='bottom')  # Adjust y-axis offset for better visibility\n",
    "\n",
    "plt.tight_layout() \n",
    "plt.show()"
   ]
  },
  {
   "cell_type": "markdown",
   "id": "a8571f09-729d-4cc9-85b9-a37c4f0acbec",
   "metadata": {},
   "source": [
    "<p><strong><span style=\"color: #99cc00;\">Interpretation:</span></strong></p>\n",
    "<p><strong><span style=\"color: #808080;\">Passengers from Cherbourg had paid the highest fare, followed by Southampton and Queenstown. The price difference could be because of distance to destination and Class prefered by passengers</span></strong></p>\n",
    "<ul>"
   ]
  },
  {
   "cell_type": "markdown",
   "id": "030c2d86-65df-4bf7-9511-cec3fa0673a6",
   "metadata": {},
   "source": [
    "<h4 ><span style=\"color: #808080;\">Class preference by man, women and child</span></h4>"
   ]
  },
  {
   "cell_type": "code",
   "execution_count": null,
   "id": "ed056576-116c-4ba6-b8c0-8701ee0177e9",
   "metadata": {},
   "outputs": [],
   "source": [
    "# Create and print a pivot/cross table of 2 varaibles\n",
    "class_by_who_pct =pd.crosstab(df['class'], \n",
    "                         df['who'], \n",
    "                         values=df['class'], \n",
    "                         aggfunc='count',\n",
    "                          normalize=\"index\")*100 #Normalize to percentage for displaying output\n",
    "print(\"Values in %:\\n\")\n",
    "display(class_by_who_pct.style.background_gradient(cmap= \"cividis\")) # Highlight cells based on values\n",
    "\n",
    "class_by_who =pd.crosstab(df['class'], \n",
    "                         df['who'], \n",
    "                         values=df['class'], \n",
    "                         aggfunc='count') #Cross tab data for heat map\n",
    "print(\"\\n\")\n",
    "\n",
    "# Plot heat map\n",
    "fig, ax = plt.subplots(figsize=(4,2.5)) # set figure size\n",
    "sns.heatmap(class_by_who, annot=True, cmap=\"cividis\", fmt=\"d\")\n",
    "plt.xlabel(\"Passenger Type\")\n",
    "plt.ylabel(\"Passenger Class\")\n",
    "plt.title(\"Distribution of Passenger Classes by Passenger Type\")\n",
    "plt.xticks(rotation=0);"
   ]
  },
  {
   "cell_type": "markdown",
   "id": "b61fe441-04a6-48b7-bb05-faea42c3f671",
   "metadata": {},
   "source": [
    "<p><strong><span style=\"color: #99cc00;\">Interpretation:</span></strong></p>\n",
    "<p><strong><span style=\"color: #808080;\">~65% of man preferred third class travel.  42% of female preferred First class. And 10~11 children are there in second & third class</span></strong></p>\n",
    "<ul>"
   ]
  },
  {
   "cell_type": "markdown",
   "id": "f2615e7b-da8c-4c96-bd26-e77c48ea448a",
   "metadata": {},
   "source": [
    "<h4 ><span style=\"color: #808080;\">Mortality vs. Gender</span></h4>"
   ]
  },
  {
   "cell_type": "code",
   "execution_count": null,
   "id": "2673e568-2040-4a69-8708-6eae5aba62bd",
   "metadata": {
    "jupyter": {
     "source_hidden": true
    }
   },
   "outputs": [],
   "source": [
    "# Create and print a pivot/cross table of 2 varaibles\n",
    "print(\"Values in %:\")\n",
    "class_by_alive = pd.crosstab(df['class'], \n",
    "                         df['alive'], \n",
    "                         values=df['class'], \n",
    "                         aggfunc='count',\n",
    "                            normalize = \"index\")*100 #Normalize values\n",
    "# Rename\n",
    "class_by_alive_renamed = class_by_alive.rename(columns={'no': 'victims', 'yes': 'alive'}, copy=True)\n",
    "display(class_by_alive_renamed.style.background_gradient(cmap= \"BuPu\"))\n",
    "\n",
    "# Plot heat map\n",
    "fig, ax = plt.subplots(figsize=(4,2.5)) # set figure size\n",
    "sns.heatmap(class_by_alive_renamed, cmap=\"BuPu\", annot=True)  # Use integer format 'd'\n",
    "plt.xlabel(\"Survival Status\")\n",
    "plt.ylabel(\"Passenger Class\")\n",
    "plt.title(\"Distribution of Passenger Classes by Survival Status on the Titanic (Heatmap)\")\n",
    "plt.show()"
   ]
  },
  {
   "cell_type": "markdown",
   "id": "586623a4-c558-41e2-8eeb-b6960c864103",
   "metadata": {},
   "source": [
    "<p><strong><span style=\"color: #99cc00;\">Interpretation:</span></strong></p>\n",
    "<p><strong><span style=\"color: #808080;\">Clearly 63% of passengers in the first class(usually the wealthiest on board) had survived. Followed by 47% of passengers survived in second class. 75% of passengers who were travelling in third class lost their life.</span></strong></p>\n",
    "<ul>"
   ]
  },
  {
   "cell_type": "markdown",
   "id": "21c3194a-ea1d-46c7-95e1-cf6a71c2b410",
   "metadata": {},
   "source": [
    "<h4 ><span style=\"color: #808080;\">Passenger class vs. Solo travel</span></h4>"
   ]
  },
  {
   "cell_type": "code",
   "execution_count": null,
   "id": "b77b4ea0-1e0e-492c-9439-57ca6b9e11a0",
   "metadata": {},
   "outputs": [],
   "source": [
    "# Create and print a pivot/cross table of 2 varaibles\n",
    "class_by_alone = pd.crosstab(df['class'], \n",
    "                         df['alone'], \n",
    "                         values=df['class'], \n",
    "                         aggfunc='count',\n",
    "                            normalize=\"index\")*100\n",
    "class_by_alone\n",
    "\n",
    "# Rename categories in a copy to avoid modifying the original DataFrame\n",
    "class_by_alone_renamed = class_by_alone.rename(columns={False: 'Travel with company', True: 'Solo travel'}, copy=True)\n",
    "class_by_alone_renamed\n",
    "print(\"Values in %:\")\n",
    "display((class_by_alone_renamed.T).style.background_gradient()) # Highlight cells based on values, tranpose for good readability\n",
    "\n",
    "class_by_alone_renamed.plot.bar(figsize=(6, 2.5)) # set figure size\n",
    "plt.xlabel(\"Passenger Class\")\n",
    "plt.ylabel(\"Number of Passengers\")\n",
    "plt.title(\"Number of Passengers by Travel Type and Class on the Titanic\")\n",
    "plt.xticks(rotation=0) ; # Rotate x-axis labels for readability"
   ]
  },
  {
   "cell_type": "markdown",
   "id": "02e06a20-52c9-4f35-9691-e4c35fe1bc74",
   "metadata": {},
   "source": [
    "<p><strong><span style=\"color: #99cc00;\">Interpretation:</span></strong></p>\n",
    "<p><strong><span style=\"color: #808080;\">Significant passengers from second and third class had traveled alone</span></strong></p>\n",
    "<ul>"
   ]
  },
  {
   "cell_type": "markdown",
   "id": "83da287e-fc12-470d-95a8-0cdee5673efd",
   "metadata": {},
   "source": [
    "<h4 ><span style=\"color: #808080;\">Distribution of Family Size by Passenger Class</span></h4>"
   ]
  },
  {
   "cell_type": "code",
   "execution_count": null,
   "id": "4bda1357-3cba-4b71-bcf7-5c0ab6e16fe0",
   "metadata": {},
   "outputs": [],
   "source": [
    "# Create and print a pivot/cross table of 2 varaibles\n",
    "class_by_family_size = pd.crosstab(df['class'], \n",
    "                         df['family_size'], \n",
    "                         values=df['class'], \n",
    "                         aggfunc='count')\n",
    "class_by_family_size=class_by_family_size.T\n",
    "display(class_by_family_size)\n",
    "\n",
    "#Plot bar graph\n",
    "class_by_family_size.plot.bar(figsize=(8, 2.5)) # set figure size\n",
    "plt.xlabel(\"Family Size\")\n",
    "plt.ylabel(\"Counts\")\n",
    "plt.title(\"Distribution of Family Size by Passenger Class\")\n",
    "plt.xticks(rotation=0);"
   ]
  },
  {
   "cell_type": "markdown",
   "id": "75e4e9ac-f33a-4b4a-ad7c-345de1e85c42",
   "metadata": {},
   "source": [
    "<p><strong><span style=\"color: #99cc00;\">Interpretation:</span></strong></p>\n",
    "<p><strong><span style=\"color: #808080;\">There is no clear relation between family size and passenger class</span></strong></p>\n",
    "<ul>"
   ]
  },
  {
   "cell_type": "markdown",
   "id": "a05b0099-2c4b-4153-a217-809510efac5d",
   "metadata": {},
   "source": [
    "<h4 ><span style=\"color: #808080;\">Distribution of Embarkation Town by Passenger Class</span></h4>"
   ]
  },
  {
   "cell_type": "code",
   "execution_count": null,
   "id": "806d0bb5-e63d-4597-afad-f3fcd3b752ea",
   "metadata": {},
   "outputs": [],
   "source": [
    "# Create and print a pivot/cross table of 2 varaibles\n",
    "class_by_embark_town = pd.crosstab(df['class'], \n",
    "                         df['embark_town'], \n",
    "                         values=df['class'], \n",
    "                         aggfunc='count')\n",
    "class_by_embark_town=class_by_embark_town.T #Transpose for readablity\n",
    "class_by_embark_town\n",
    "\n",
    "# Plot heat map\n",
    "print(\"\\nValues in Count:\")\n",
    "fig, ax = plt.subplots(figsize=(4,2.5)) # set figure size\n",
    "plt.title(\"Distribution of Embarkation Town by Passenger Class\")\n",
    "sns.heatmap(class_by_embark_town, cmap='coolwarm', annot=True, fmt=\"d\");"
   ]
  },
  {
   "cell_type": "markdown",
   "id": "6dd420fa-53fe-465b-ab89-6b9e8dab4eb9",
   "metadata": {},
   "source": [
    "<p><strong><span style=\"color: #99cc00;\">Interpretation:</span></strong></p>\n",
    "<p><strong><span style=\"color: #808080;\">Most of the passengers from Southampton & Queenstown have boarded third class. Cherbourg passengers had preferred first class journey </span></strong></p>\n",
    "<ul>"
   ]
  },
  {
   "cell_type": "markdown",
   "id": "f8daaa05-9626-4aa6-b0d3-91f139565890",
   "metadata": {},
   "source": [
    "<h4 ><span style=\"color: #808080;\">Survival Status Distribution by Passenger Type on the Titanic</span></h4>"
   ]
  },
  {
   "cell_type": "code",
   "execution_count": null,
   "id": "f5daeafc-9786-4294-bc71-fe5e2daecaac",
   "metadata": {
    "jupyter": {
     "source_hidden": true
    }
   },
   "outputs": [],
   "source": [
    "# Create and print a pivot/cross table of 2 varaibles\n",
    "print(\"Values in %:\")\n",
    "who_by_alive = pd.crosstab(df['alive'], \n",
    "                         df['who'], \n",
    "                         values=df['alive'], \n",
    "                         aggfunc='count',\n",
    "                          normalize= \"columns\")*100 # Normalize columns as percentage\n",
    "\n",
    "who_by_alive=who_by_alive.T #Transpose fpor reneaming\n",
    "who_by_alive = who_by_alive.rename(columns={'no': 'Deceased', 'yes': 'Survived'}, copy=True)\n",
    "who_by_alive=who_by_alive.T\n",
    "display(who_by_alive.style.background_gradient(cmap= \"YlGnBu\")) # Highlight cells based on values\n",
    "\n",
    "# Plot bar graph\n",
    "(who_by_alive.T).plot(kind='bar',figsize=(8,2), cmap= \"YlGnBu\") # set figure size\n",
    "plt.xlabel(\"Passenger Type\")\n",
    "plt.ylabel(\"Number of Passengers\")\n",
    "plt.title(\"Survival Status Distribution by Passenger Type on the Titanic\")\n",
    "plt.xticks(rotation=0)\n",
    "plt.legend()\n",
    "plt.show()"
   ]
  },
  {
   "cell_type": "markdown",
   "id": "16125f61-a182-43a2-8cc9-34fb1c3fbd53",
   "metadata": {},
   "source": [
    "<p><strong><span style=\"color: #99cc00;\">Interpretation:</span></strong></p>\n",
    "<p><strong><span style=\"color: #808080;\">~59% of children survived. 75% of female made alive and only 16% of men survived </span></strong></p>\n",
    "<ul>"
   ]
  },
  {
   "cell_type": "markdown",
   "id": "b917e136-76ef-4612-95f2-3604a526522f",
   "metadata": {},
   "source": [
    "<h4 ><span style=\"color: #808080;\">Travel Type by Passenger Type on the Titanic</span></h4>"
   ]
  },
  {
   "cell_type": "code",
   "execution_count": null,
   "id": "f9a930c6-cf9f-47ff-9ab1-f4cbdd4844aa",
   "metadata": {
    "jupyter": {
     "source_hidden": true
    }
   },
   "outputs": [],
   "source": [
    "# Create and print a pivot/cross table of 2 varaibles\n",
    "print(\"\\nValues in %:\")\n",
    "who_by_alone_pct = pd.crosstab(df['alone'], \n",
    "                         df['who'], \n",
    "                         values=df['who'], \n",
    "                         aggfunc='count',\n",
    "                          normalize= \"columns\")*100 # Noramlize columns\n",
    "\n",
    "who_by_alone_pct=who_by_alone_pct.T #Transpose fpr re-naming\n",
    "who_by_alone_pct = who_by_alone_pct.rename(columns={False: 'Travel With Company', True: 'Solo Travel'}, copy=True) #Rename column values\n",
    "print(who_by_alone_pct)\n",
    "\n",
    "#Create count cross tab for heat map\n",
    "print(\"\\nValues in count:\")\n",
    "who_by_alone = pd.crosstab(df['alone'], \n",
    "                         df['who'], \n",
    "                         values=df['who'], \n",
    "                         aggfunc='count')\n",
    "who_by_alone=who_by_alone.T\n",
    "who_by_alone = who_by_alone.rename(columns={False: 'Travel With Company', True: 'Solo Travel'}, copy=True)\n",
    "who_by_alone=who_by_alone.T\n",
    "who_by_alone=who_by_alone.T\n",
    "display((who_by_alone).style.background_gradient(cmap= \"YlGnBu\")) # Highlight cells based on values\n",
    "\n",
    "# Plot heat map\n",
    "fig, ax = plt.subplots(figsize=(4,2.5)) # set figure size\n",
    "print(\"\\nValues in count:\")\n",
    "sns.heatmap(who_by_alone, annot=True, cmap=\"YlGnBu\", fmt=\"0F\")  # Colormap for clarity\n",
    "plt.xlabel(\"Travel Type\")\n",
    "plt.ylabel(\"Passenger Type\")\n",
    "plt.title(\"Travel Type by Passenger Type on the Titanic (Heatmap)\")\n",
    "plt.show()"
   ]
  },
  {
   "cell_type": "markdown",
   "id": "219710fc-2ae0-422b-a8e5-2d9a31a1e5da",
   "metadata": {},
   "source": [
    "<p><strong><span style=\"color: #99cc00;\">Interpretation:</span></strong></p>\n",
    "<p><strong><span style=\"color: #808080;\">Almost all children traveled with company. 75% of men had a solo journey. 55% female had travelled with company </span></strong></p>\n",
    "<ul>"
   ]
  },
  {
   "cell_type": "markdown",
   "id": "b9cc31f2-2d0d-47d2-8308-7266f9837c56",
   "metadata": {},
   "source": [
    "<h4 ><span style=\"color: #808080;\">Family Size vs. Type of passenger</span></h4>"
   ]
  },
  {
   "cell_type": "code",
   "execution_count": null,
   "id": "729fc704-34da-42df-a37c-505ae6a1dcbe",
   "metadata": {},
   "outputs": [],
   "source": [
    "# Create and print a pivot/cross table of 2 varaibles\n",
    "print(\"Values in %:\\n\")\n",
    "who_by_family_size = pd.crosstab(df['who'], \n",
    "                         df['family_size'], \n",
    "                         values=df['who'], \n",
    "                         aggfunc='count',\n",
    "                                normalize=\"index\")*100 #normalize values to percentage based on rows\n",
    "who_by_family_size=(who_by_family_size)\n",
    "who_by_family_size.style.background_gradient(cmap= \"summer\") # Highlight cells based on values"
   ]
  },
  {
   "cell_type": "markdown",
   "id": "e08587a9-a519-4abb-b678-5bb0b83ed5d6",
   "metadata": {},
   "source": [
    "<p><strong><span style=\"color: #99cc00;\">Interpretation:</span></strong></p>\n",
    "<p><strong><span style=\"color: #808080;\">76% of men travelled alone. 44% of women travelled alone. <br> Maximum family size of 10 is seen. <br> Most of the time a child is accompanied by single parent</span></strong></p>\n",
    "<ul>"
   ]
  },
  {
   "cell_type": "code",
   "execution_count": null,
   "id": "5aaf68ae-a990-4f91-a169-0f36894b8642",
   "metadata": {
    "jupyter": {
     "source_hidden": true
    },
    "scrolled": true
   },
   "outputs": [],
   "source": [
    "# Create and print a pivot/cross table of 2 varaibles\n",
    "print(\"Values in %:\\n\")\n",
    "alive_by_family_size = pd.crosstab(df['alive'], \n",
    "                         df['family_size'], \n",
    "                         values=df['alive'], \n",
    "                         aggfunc='count',\n",
    "                                normalize=\"index\")*100 #Normalize cross tab values to percentage based on rows\n",
    "alive_by_family_size=(alive_by_family_size.T) #Transpose for renaming\n",
    "alive_by_family_size = alive_by_family_size.rename(columns={\"no\": 'Titanic Victim', \"yes\": 'Survived'}, copy=True)\n",
    "\n",
    "#Not taking the first row beacuse it shows value for solo travel\n",
    "alive_by_family_size=alive_by_family_size.loc[1:8]\n",
    "alive_by_family_size.style.background_gradient(cmap= \"turbo\") # Highlight cells based on values"
   ]
  },
  {
   "cell_type": "markdown",
   "id": "23abd6aa-b9b8-4d42-9151-6e2ddc102a31",
   "metadata": {},
   "source": [
    "<p><strong><span style=\"color: #99cc00;\">Interpretation:</span></strong></p>\n",
    "<p><strong><span style=\"color: #808080;\">Ignoring solo travel, <br>\n",
    "    Passengers accompanied by 1 person had survived by 26%, <br>\n",
    "    Passengers accompanied by 2 person had survived by 17%, <br>\n",
    "    Passengers accompanied by 3 person had survived by 6%, <br>\n",
    "    Passengers accompanied by more than 3 persons had least survived, <br>\n",
    "\n",
    "</span></strong></p>\n",
    "<ul>"
   ]
  },
  {
   "cell_type": "markdown",
   "id": "da609a27-df11-43cc-b71f-3fd6d1b63331",
   "metadata": {},
   "source": [
    "<h4 ><span style=\"color: #808080;\">Mortality vs. Adult Male</span></h4>"
   ]
  },
  {
   "cell_type": "code",
   "execution_count": null,
   "id": "770406b0-40e4-4b4e-9868-e63d378c9c10",
   "metadata": {
    "jupyter": {
     "source_hidden": true
    }
   },
   "outputs": [],
   "source": [
    "fig, ax = plt.subplots(figsize=(6,2)) # set figure size\n",
    "\n",
    "# Create and print a pivot/cross table of 2 varaibles\n",
    "print(\"\\nValues in %:\")\n",
    "alive_by_adult = pd.crosstab(df['alive'], \n",
    "                         df['adult_male'], \n",
    "                         values=df['adult_male'], \n",
    "                         aggfunc='count',\n",
    "                            normalize=\"columns\")*100 # Noramalize crosstab values to percentage based on columns\n",
    "\n",
    "alive_by_adult = alive_by_adult.rename(columns={False: 'Non Adult Male', True: 'Adult Male'}, copy=True)\n",
    "alive_by_adult = alive_by_adult.T\n",
    "alive_by_adult = alive_by_adult.rename(columns={\"no\": 'Titanic Victim', \"yes\": 'Alive'}, copy=True)\n",
    "alive_by_adult = alive_by_adult.T\n",
    "alive_by_adult=alive_by_adult.style.background_gradient(cmap= \"Set3\") # Highlight cells based on values\n",
    "display(alive_by_adult)\n",
    "\n",
    "#Plot bar graph for 2 variable\n",
    "sns.countplot(x='adult_male', hue='alive', data=df, palette='Set3')\n",
    "plt.legend(title=\"survived\", labels=['Alive', 'Titanic Victim'], loc=1)#upper right\n",
    "plt.title(\"survival by adult male\");"
   ]
  },
  {
   "cell_type": "markdown",
   "id": "f6af6f7b-2094-4664-9338-57de68c88de4",
   "metadata": {},
   "source": [
    "<p><strong><span style=\"color: #99cc00;\">Interpretation:</span></strong></p>\n",
    "<p><strong><span style=\"color: #808080;\">Only 16% of Adult male survived.</span></strong></p>\n",
    "<ul>"
   ]
  },
  {
   "cell_type": "markdown",
   "id": "38d16771-9d7f-4ff8-a027-95e8de480518",
   "metadata": {},
   "source": [
    "<h4 ><span style=\"color: #808080;\">Distribution of Adult Male vs. Family Size</span></h4>"
   ]
  },
  {
   "cell_type": "code",
   "execution_count": null,
   "id": "887efb65-7f9b-4f4c-8387-f101862688d1",
   "metadata": {
    "jupyter": {
     "source_hidden": true
    }
   },
   "outputs": [],
   "source": [
    "# Create and print a pivot/cross table of 2 varaibles\n",
    "print(\"Values in %:\\n\")\n",
    "fmly_by_adult = pd.crosstab(df['adult_male'], \n",
    "                         df['family_size'], \n",
    "                         values=df['adult_male'], \n",
    "                         aggfunc='count',\n",
    "                           normalize=\"index\")*100 # Noramalize crosstab values to percentage based on rows\n",
    "\n",
    "fmly_by_adult = fmly_by_adult.T #Transapose for renaming the column names\n",
    "\n",
    "#Rename columns\n",
    "fmly_by_adult = fmly_by_adult.rename(columns={False: 'Non Adult Male', True: 'Adult Male'}, copy=True)\n",
    "fmly_by_adult = fmly_by_adult.T\n",
    "\n",
    " # Highlight cells based on values\n",
    "fmly_by_adult = fmly_by_adult.style.background_gradient(cmap= \"Blues\")\n",
    "display(fmly_by_adult)\n",
    "\n",
    "#Plot bar graphs\n",
    "fig, ax = plt.subplots(figsize=(8,2)) # set figure size\n",
    "sns.countplot(x='family_size', hue='adult_male', data=df, palette='Blues')\n",
    "plt.legend(title=\"Adult Male\",labels=['Non Adult Male', 'Adult Male'], loc=1)#upper right\n",
    "plt.title(\"Family Size by Adult Male\");"
   ]
  },
  {
   "cell_type": "markdown",
   "id": "e1d68fff-1717-40e5-94dd-b289b447bc09",
   "metadata": {},
   "source": [
    "<p><strong><span style=\"color: #99cc00;\">Interpretation:</span></strong></p>\n",
    "<p><strong><span style=\"color: #808080;\">~76% adult male have travelled solo and 13% of them travelled with single company</span></strong></p>\n",
    "<ul>"
   ]
  },
  {
   "cell_type": "markdown",
   "id": "1b19ad78-48ed-4be2-86d9-bb1c08ba956f",
   "metadata": {},
   "source": [
    "<h4 ><span style=\"color: #808080;\">Distribution of Adult Male vs. Embrakation Town</span></h4>"
   ]
  },
  {
   "cell_type": "code",
   "execution_count": null,
   "id": "d950e8a4-af81-4c39-b27e-d0e23a106531",
   "metadata": {
    "jupyter": {
     "source_hidden": true
    }
   },
   "outputs": [],
   "source": [
    "# Create and print a pivot/cross table of 2 varaibles\n",
    "adult_male_by_embark_town_pct = pd.crosstab(df['embark_town'], \n",
    "                         df['adult_male'], \n",
    "                         values=df['adult_male'], \n",
    "                         aggfunc='count',\n",
    "                                       normalize=\"index\")*100 # Noramalize crosstab values to percentage based on rows for higligting cells based on value\n",
    "#Rename column names\n",
    "adult_male_by_embark_town_pct = adult_male_by_embark_town_pct.rename(columns={False: 'Non Adult Male', True: 'Adult Male'}, copy=True)\n",
    "adult_male_by_embark_town_pct = adult_male_by_embark_town_pct.T\n",
    "\n",
    "# print(adult_male_by_embark_town_pct)\n",
    "# Highlight cells based on values\n",
    "adult_male_by_embark_town_pct = adult_male_by_embark_town_pct.style.background_gradient(cmap= \"crest\") # Highlight cells based on values\n",
    "print(\"Values in %:\\n\") \n",
    "display(adult_male_by_embark_town_pct)\n",
    "\n",
    "adult_male_by_embark_town = pd.crosstab(df['embark_town'], \n",
    "                         df['adult_male'], \n",
    "                         values=df['adult_male'], \n",
    "                         aggfunc='count',\n",
    "                                       normalize=\"index\") # Noramalize crosstab values for bar graph\n",
    "#Rename column names\n",
    "adult_male_by_embark_town = adult_male_by_embark_town.rename(columns={False: 'Non Adult Male', True: 'Adult Male'}, copy=True)\n",
    "\n",
    "#Plot bar graph\n",
    "adult_male_by_embark_town.plot(kind='bar',figsize=(8,2.5), cmap=\"crest\") # set figure size\n",
    "plt.xlabel(\"Embark Town\")\n",
    "plt.ylabel(\"Number of Passengers\")\n",
    "plt.title(\"Adult Male Travel vs. Embark Town\")\n",
    "plt.xticks(rotation=0)\n",
    "plt.legend()\n",
    "plt.show()"
   ]
  },
  {
   "cell_type": "markdown",
   "id": "86dab748-145e-4861-a88d-4bc2a9c5a4ef",
   "metadata": {},
   "source": [
    "<p><strong><span style=\"color: #99cc00;\">Interpretation:</span></strong></p>\n",
    "<p><strong><span style=\"color: #808080;\">Cherbourg & Southampton had boarded maximum percentage of Adult male.\n",
    "</span></strong></p>\n",
    "<ul>"
   ]
  },
  {
   "cell_type": "markdown",
   "id": "e51a69a8-f23d-49b0-ab98-f6e41bde2e22",
   "metadata": {},
   "source": [
    "<h4 ><span style=\"color: #808080;\">Embarkation Port by Passenger's Mortality</span></h4>"
   ]
  },
  {
   "cell_type": "code",
   "execution_count": null,
   "id": "dcb7062f-a346-4625-9c6a-348a7ba0024c",
   "metadata": {
    "jupyter": {
     "source_hidden": true
    }
   },
   "outputs": [],
   "source": [
    "# Create and print a pivot/cross table of 2 varaibles\n",
    "embark_towne_by_alive_pct = pd.crosstab(df['embark_town'], \n",
    "                         df['adult_male'], \n",
    "                         values=df['adult_male'], \n",
    "                         aggfunc='count',\n",
    "                                   normalize=\"index\")*100 #Noramalize crosstab values to percentage based on rows for higligting cells based on value\n",
    "embark_towne_by_alive_pct\n",
    "\n",
    "print(\"Values in %:\\n\")\n",
    "\n",
    "#Rename column\n",
    "embark_towne_by_alive_pct = embark_towne_by_alive_pct.rename(columns={False: 'Titanic Victim', True: 'Alive'}, copy=True)\n",
    "embark_towne_by_alive_pct = embark_towne_by_alive_pct.T\n",
    "\n",
    "# Highlight cells based on values\n",
    "embark_towne_by_alive_pct=embark_towne_by_alive_pct.style.background_gradient(cmap= \"flare\") # Highlight cells based on values\n",
    "display(embark_towne_by_alive_pct)\n",
    "\n",
    "embark_towne_by_alive = pd.crosstab(df['embark_town'], \n",
    "                         df['adult_male'], \n",
    "                         values=df['adult_male'], \n",
    "                         aggfunc='count')\n",
    "embark_towne_by_alive\n",
    "embark_towne_by_alive = embark_towne_by_alive.rename(columns={False: 'Titanic Victim', True: 'Alive'}, copy=True)\n",
    "\n",
    "print(\"\\n\")\n",
    "embark_towne_by_alive.plot(kind='bar', figsize=(4.5,2), cmap=\"flare\") # set figure size\n",
    "plt.xlabel(\"Embarkation Port\")\n",
    "plt.ylabel(\"Number of Passengers\")\n",
    "plt.title(\"Embarkation Port by Passenger's Mortality\")\n",
    "plt.xticks(rotation=0)\n",
    "plt.legend()\n",
    "plt.show()"
   ]
  },
  {
   "cell_type": "markdown",
   "id": "d486f7bc-e6c4-4430-bddf-f73243197d88",
   "metadata": {},
   "source": [
    "<p><strong><span style=\"color: #99cc00;\">Interpretation:</span></strong></p>\n",
    "<p><strong><span style=\"color: #808080;\">Cherbourg - 53% of passengers are alive who had boarded from Cherbourg port <br>\n",
    "Queenstown - ~52% of passengers are alive who had boarded from Queenstown port <br>\n",
    "Southampton - 63% of passengers are alive who had boarded from Southampton port <br>  \n",
    "</span></strong></p>\n",
    "<ul>"
   ]
  },
  {
   "cell_type": "markdown",
   "id": "dd95842a-6b96-4c31-b779-dcd30078faa9",
   "metadata": {},
   "source": [
    "<h4 ><span style=\"color: #808080;\">Embarkation Port Vs. Travel Type (solo/accompanied)</span></h4>"
   ]
  },
  {
   "cell_type": "code",
   "execution_count": null,
   "id": "66109703-270f-4998-afd8-d5f0cfcf283c",
   "metadata": {
    "jupyter": {
     "source_hidden": true
    }
   },
   "outputs": [],
   "source": [
    "# Create and print a pivot/cross table of 2 varaibles\n",
    "embark_towne_by_alone_pct = pd.crosstab(df['embark_town'], \n",
    "                         df['alone'], \n",
    "                         values=df['alone'], \n",
    "                         aggfunc='count',\n",
    "                                   normalize=\"index\")*100 # Noramalize crosstab values to percentage based on rows for higligting cells based on value\n",
    "embark_towne_by_alone_pct\n",
    "\n",
    "print(\"Values in %:\\n\")\n",
    "embark_towne_by_alone_pct = embark_towne_by_alone_pct.rename(columns={False: 'Accompanied Travel', True: 'Solo Travel'}, copy=True)\n",
    "embark_towne_by_alone_pct = embark_towne_by_alone_pct.T\n",
    "\n",
    "# Highlight cells based on values\n",
    "embark_towne_by_alone_pct=embark_towne_by_alone_pct.style.background_gradient(cmap= \"Set2\") # Highlight cells based on values\n",
    "display(embark_towne_by_alone_pct)\n",
    "\n",
    "# Sorting Embarked town in graph\n",
    "embark_town_categories = df['embark_town'].unique()\n",
    "embark_town_categories = sorted(embark_town_categories)  # Alphabetical sorting\n",
    "\n",
    "fig, ax = plt.subplots(figsize=(6,1.5)) # set figure size\n",
    "sns.countplot(x='embark_town', hue='alone', data=df, palette='Set2',  order=embark_town_categories)\n",
    "plt.legend(title=\"Travel Type\", labels=['Accompanied Travel', 'Solo Travel'], loc=2)#upper right\n",
    "plt.title(\"Embarkation Port Vs. Travel Type(solo/accompanied)\");"
   ]
  },
  {
   "cell_type": "markdown",
   "id": "998a4631-b58a-491a-ac9a-0f48d456862c",
   "metadata": {},
   "source": [
    "<p><strong><span style=\"color: #99cc00;\">Interpretation:</span></strong></p>\n",
    "<p><strong><span style=\"color: #808080;\">Queenstown and Southampton has big proportion of solo travel <br>\n",
    "    Cherbourg has almost the same proportion of solo and accompanied travel \n",
    "</span></strong></p>\n",
    "<ul>"
   ]
  },
  {
   "cell_type": "markdown",
   "id": "b2e5d1cc-5a4c-4855-8b7b-c55bba7b02f9",
   "metadata": {},
   "source": [
    "<h4 ><span style=\"color: #808080;\">Family Size by Embark Town</span></h4>"
   ]
  },
  {
   "cell_type": "code",
   "execution_count": null,
   "id": "5cc2c873-7d8e-446b-a656-4761c7a29055",
   "metadata": {
    "jupyter": {
     "source_hidden": true
    }
   },
   "outputs": [],
   "source": [
    "# Create and print a pivot/cross table of 2 varaibles\n",
    "fig = plt.figure(figsize=(8.5,2)) # set figure size\n",
    "embark_towne_by_fmly_size = pd.crosstab(df['embark_town'], \n",
    "                         df['family_size'], \n",
    "                         values=df['family_size'], \n",
    "                         aggfunc='count',\n",
    "                         normalize=\"index\")*100 # Noramalize crosstab values to percentage based on rows for higligting cells based on value\n",
    "embark_towne_by_fmly_size\n",
    "\n",
    "# Highlight cells based on values\n",
    "embark_towne_by_fmly_size=embark_towne_by_fmly_size.style.background_gradient(cmap= \"plasma\") \n",
    "display(embark_towne_by_fmly_size)\n",
    "\n",
    "#Plot bar graph\n",
    "sns.countplot(x='family_size', hue='embark_town', data=df, palette='plasma')\n",
    "plt.legend(title=\"Embark Town\", loc=1)#upper right\n",
    "plt.title(\"Family Size by Embark Town\");"
   ]
  },
  {
   "cell_type": "markdown",
   "id": "d431e298-f02f-4d24-9f7f-4f699461b3bb",
   "metadata": {},
   "source": [
    "<p><strong><span style=\"color: #99cc00;\">Interpretation:</span></strong></p>\n",
    "<p><strong><span style=\"color: #808080;\">There is no relation between family size and embarkation port</span></strong></p>\n",
    "<ul>"
   ]
  },
  {
   "cell_type": "markdown",
   "id": "fed516ca-c368-49fd-b609-d1f69493ffa6",
   "metadata": {},
   "source": [
    "<h4 ><span style=\"color: #808080;\">Family Size by Sibsp and Parch</span></h4>"
   ]
  },
  {
   "cell_type": "code",
   "execution_count": null,
   "id": "240cb059",
   "metadata": {
    "jupyter": {
     "source_hidden": true
    }
   },
   "outputs": [],
   "source": [
    "fig = plt.figure(figsize=(10,2)) # set figure size\n",
    "rect1 = plt.bar(df['family_size'] ,df['sibsp'],\n",
    "                width=0.5, color='lightblue')\n",
    "rect2 = plt.bar(df['family_size'], df['parch'],\n",
    "                width=0.5, color='#1f77b4')\n",
    "\n",
    "plt.legend((rect1[0], rect2[0]), ('sibsp', 'parch'))\n",
    "plt.title('Family Size by Sibsp and Parch', fontsize=15)\n",
    "plt.show()"
   ]
  },
  {
   "cell_type": "markdown",
   "id": "288a027b-440d-42d0-a318-3ca577962bc0",
   "metadata": {},
   "source": [
    "<p><strong><span style=\"color: #99cc00;\">Interpretation:</span></strong></p>\n",
    "<p><strong><span style=\"color: #808080;\">Direct relation - Family size is sum of siblings, spouse and parents, children</span></strong></p>\n",
    "<ul>"
   ]
  },
  {
   "cell_type": "markdown",
   "id": "d06c8189-4ad7-421e-b6c2-52d6a653db1c",
   "metadata": {},
   "source": [
    "<div class=\"fig\">\n",
    "<div class=\"fig\">\n",
    "<h1 class=\"avatar-gutter ng-tns-c4029313283-104 ng-star-inserted\"><span style=\"color: #808080;\">Analysis [Multi-variate Analysis]</span></h1>\n",
    "</div>\n",
    "</div>"
   ]
  },
  {
   "cell_type": "markdown",
   "id": "5d4ed0e5-6d7c-456f-b663-58411ba9905e",
   "metadata": {},
   "source": [
    "<h4 ><span style=\"color: #808080;\">Correlation Heatmap of numerical variable</span></h4>"
   ]
  },
  {
   "cell_type": "code",
   "execution_count": null,
   "id": "214403c9",
   "metadata": {},
   "outputs": [],
   "source": [
    "# Analyze Correlations\n",
    "correlation = df.select_dtypes(include=[np.number]).corr()\n",
    "correlation\n",
    "# Calculate correlations of numerical datatypes\n",
    "sns.heatmap(correlation, annot=True, cmap=\"PiYG\")  # Heatmap of correlations between numerical features\n",
    "plt.title(\"Correlation Heatmap\")\n",
    "plt.show()"
   ]
  },
  {
   "cell_type": "markdown",
   "id": "d11d498b-5731-4241-bc2b-5b6bcac02005",
   "metadata": {},
   "source": [
    "<p><strong><span style=\"color: #99cc00;\">Interpretation:</span></strong></p>\n",
    "<p><strong><span style=\"color: #808080;\">Positive correlation in Family size with sibsp and parch (because, Family size = sibsp + parch). No other strong correlation observed among numerical variables</span></strong></p>\n",
    "<ul>"
   ]
  },
  {
   "cell_type": "markdown",
   "id": "0808fa41-0bb9-4d6e-bdc8-3b3cf23328d3",
   "metadata": {},
   "source": [
    "<h4 ><span style=\"color: #808080;\">Pair plot of Titanic Data (Categorical Features)</span></h4>"
   ]
  },
  {
   "cell_type": "code",
   "execution_count": null,
   "id": "b8e2a40b",
   "metadata": {},
   "outputs": [],
   "source": [
    "sns.pairplot(df, diag_kind='hist', hue=\"alive\") #plot pair plot for all variables\n",
    "# plt.suptitle('Pairplot of Titanic Data (Categorical Features)')\n",
    "# plt.show()"
   ]
  },
  {
   "cell_type": "markdown",
   "id": "1f33c56d-f5d6-4b84-a450-f731003e9b07",
   "metadata": {},
   "source": [
    "<p><strong><span style=\"color: #99cc00;\">Interpretation:</span></strong></p>\n",
    "<p><strong><span style=\"color: #808080;\">No visible correlation observed</span></strong></p>\n",
    "<ul>"
   ]
  },
  {
   "cell_type": "markdown",
   "id": "c4cbc139-73fc-4ec3-8dd6-93a863b64de3",
   "metadata": {},
   "source": [
    "<h4 ><span style=\"color: #808080;\">Scatter Plot of Fare, Age, Class, Familysize, Gender, and SibSp in Titanic Data</span></h4>"
   ]
  },
  {
   "cell_type": "code",
   "execution_count": null,
   "id": "91cb3b4f",
   "metadata": {},
   "outputs": [],
   "source": [
    "fig, ax = plt.subplots(figsize=(12,6)) # set figure size\n",
    "sns.scatterplot(\n",
    "    y=\"age\",\n",
    "    data=df\n",
    ")\n",
    "\n"
   ]
  },
  {
   "cell_type": "code",
   "execution_count": null,
   "id": "d0d084c3",
   "metadata": {},
   "outputs": [],
   "source": [
    "fig, ax = plt.subplots(figsize=(12,6)) # set figure size\n",
    "sns.scatterplot(\n",
    "    x=\"fare\",\n",
    "    y=\"age\",\n",
    "    hue=\"class\",  # Color by sex (categorical)\n",
    "    style=\"gender\",  # Marker style by passenger class (categorical)\n",
    "    size=\"family_size\",  # Size of point by number of siblings/spouses (numerical)\n",
    "    data=df\n",
    ")\n",
    "\n",
    "plt.xlabel(\"Fare\")\n",
    "plt.ylabel(\"Age\")\n",
    "plt.title(\"Scatter Plot of Fare, Age, Class, Familysize, Gender, and SibSp in Titanic Data\")\n",
    "plt.legend(title=\"Legends\", loc=\"best\")\n",
    "plt.show()\n"
   ]
  },
  {
   "cell_type": "code",
   "execution_count": null,
   "id": "0bf0d2e1",
   "metadata": {},
   "outputs": [],
   "source": [
    "df.columns"
   ]
  },
  {
   "cell_type": "code",
   "execution_count": null,
   "id": "92f871af",
   "metadata": {},
   "outputs": [],
   "source": [
    "import random\n",
    "plt.scatter(x=df['fare'], y = np.zeros_like(df['age']), s=10, c=df['fare'], cmap='viridis', marker='p')\n",
    "plt.show()"
   ]
  },
  {
   "cell_type": "markdown",
   "id": "d0a26e10-3298-44d3-947d-093226fdb981",
   "metadata": {},
   "source": [
    "<p><strong><span style=\"color: #99cc00;\">Interpretation:</span></strong></p>\n",
    "<p><strong><span style=\"color: #808080;\">Fare is having good mix ranging from $0 (USD) to ~$500 (USD) <br>\n",
    "Age is having good mix of data ranging from infant to 80-year-old <br>\n",
    "It can be clearly observed that Fare for first class is at higher end, some of the tickets are sold over $100 (USD) <br>\n",
    "Fare of second and third class had not crossed >= $100(USD) <br>\n",
    "There is no clear relation between age and type of class used by passengers. Every class has a mix of all age groups <br>\n",
    "Family_size data is scattered across age, fare and class. It is worth noting that larger family size has higher frequency in third class  <br>\n",
    "Gender data is scattered across variable, clearly we can notice that male passengers head count is larger compared to female  \n",
    "\n",
    "\n",
    "\n",
    "\n",
    "\n",
    "\n",
    "</span></strong></p>\n",
    "<ul>"
   ]
  },
  {
   "cell_type": "code",
   "execution_count": null,
   "id": "d749f43b-6ae9-4d5a-914d-9cbb1276d84f",
   "metadata": {
    "jupyter": {
     "source_hidden": true
    }
   },
   "outputs": [],
   "source": [
    "# Create and print a cross table of 2 varaibles\n",
    "gender_by_alone = pd.crosstab([df[\"class\"],df['alone']], \n",
    "                         [df['who'],df['gender']], \n",
    "                         values=df['gender'], \n",
    "                         aggfunc='count', normalize=\"index\")*100\n",
    "gender_by_alone"
   ]
  },
  {
   "cell_type": "code",
   "execution_count": null,
   "id": "8abeb73f-a2f3-48fa-a210-75ff82d943ff",
   "metadata": {
    "jupyter": {
     "source_hidden": true
    }
   },
   "outputs": [],
   "source": [
    "# Create and print a cross table of 2 varaibles\n",
    "gender_by_alone = pd.crosstab(df['alone'], \n",
    "                         [df['who'],df['gender']], \n",
    "                         values=df['gender'], \n",
    "                         aggfunc='count', normalize=\"index\")*100\n",
    "gender_by_alone"
   ]
  },
  {
   "cell_type": "code",
   "execution_count": null,
   "id": "bd4c9db5-18f8-43b0-9bd8-692755f65fbb",
   "metadata": {
    "jupyter": {
     "source_hidden": true
    }
   },
   "outputs": [],
   "source": [
    "sns.heatmap(pd.crosstab(df['alone'],[df['who'], df['gender']]),cmap=\"YlGnBu\", annot=True, cbar=False, fmt=\"d\");"
   ]
  },
  {
   "cell_type": "code",
   "execution_count": null,
   "id": "8d13fefe-3ced-4595-94ba-8244f16d1818",
   "metadata": {
    "jupyter": {
     "source_hidden": true
    }
   },
   "outputs": [],
   "source": [
    "# Create and print a cross table of 2 varaibles\n",
    "gender_by_alone = pd.crosstab(df['alone'], \n",
    "                         [df['who'],df['gender']], \n",
    "                         values=df['gender'], \n",
    "                         aggfunc='count', normalize=\"index\", margins=True, margins_name=\"Total\")*100\n",
    "gender_by_alone"
   ]
  },
  {
   "cell_type": "markdown",
   "id": "b23f9bb0-0fb1-4e6a-8bd3-df4c3aa991ec",
   "metadata": {},
   "source": [
    "<div class=\"lm-Widget jp-RenderedHTMLCommon jp-RenderedMarkdown jp-MarkdownOutput\" data-mime-type=\"text/markdown\">\n",
    "<h1 id=\"Summary-findings:\"><span style=\"color: #666699;\"><em><span style=\"text-decoration: underline;\"><strong>Summary findings:</strong></span></em></span></h1>\n",
    "</div>"
   ]
  },
  {
   "cell_type": "markdown",
   "id": "9eb8e5b2-5738-499c-90d8-b5808ba2c68d",
   "metadata": {
    "jp-MarkdownHeadingCollapsed": true
   },
   "source": [
    "\n",
    "<p><span style=\"color: #666699;\"><strong>Observations from data:</strong></span></p>\n",
    "<ul>\n",
    "<li><span style=\"color: #999999;\">Data composed of numerical and categorical values</span></li>\n",
    "<li><span style=\"color: #999999;\">Data has been cleaned by removing unwanted columns, renaming columns, missing values are replaced by performing imputation</span></li>\n",
    "<li><span style=\"color: #999999;\">Performed a feature engineering by creating a new variable from existing variable</span></li>\n",
    "</ul>\n",
    "<p><span style=\"color: #666699;\"><strong>Observation form Analysis:</strong></span></p>\n",
    "<ul>\n",
    "<li><span style=\"color: #666699;\"><strong>Demographics:</strong> </span><br />\n",
    "<ul>\n",
    "<li><span style=\"color: #999999;\">Age is having good mix, ranging from infant to 80-year-old </span></li>\n",
    "<li><span style=\"color: #999999;\">Titanic carried <strong>~65% of male </strong>(inclusive of 5% of male children)</span></li>\n",
    "<li><span style=\"color: #999999;\">Titanic carried <strong>~60% of men</strong> (exclusive of male child)</span></li>\n",
    "<li><span style=\"color: #999999;\">Titanic carried <strong>~60% of Adults male</strong> and ~<strong>40% of Female + children</strong></span></li>\n",
    "<li><span style=\"color: #999999;\"><strong>Southampton has notable male passengers</strong>. Queenstown &amp; Cherbourg has equal distribution of gender</span></li>\n",
    "<li><span style=\"color: #999999;\"><strong>Age is almost normally distributed</strong> (mean and median are very close). Ranging from infants to 80-year-old passengers.</span></li>\n",
    "<li><span style=\"color: #999999;\"><strong>Average age of passengers was ~30</strong></span></li>\n",
    "<li><span style=\"color: #999999;\"><strong>Significant head count of female passengers are observed in age group of 29</strong></span></li>\n",
    "<li><span style=\"color: #999999;\">Children are almost distributed equally in terms of gender<strong> (Children - male - 52% and female - 48%)</strong></span></li>\n",
    "</ul>\n",
    "</li>\n",
    "<li><span style=\"color: #666699;\"><strong>Voyage details:</strong></span>\n",
    "<ul>\n",
    "<li><span style=\"color: #666699;\"><strong>Fare:</strong></span>\n",
    "<ul>\n",
    "<li><span style=\"color: #999999;\"><strong>Fare is having good mix ranging from $0 (USD) to ~$500 (USD) </strong></span></li>\n",
    "<li><span style=\"color: #999999;\"><strong>Average price paid for voyage is 32(USD)</strong>. <strong>14(USD) is the most purchased ticket</strong></span></li>\n",
    "<li><span style=\"color: #999999;\"><strong>Women had purchased expensive tickets.</strong> Followed by children and male passengers</span></li>\n",
    "<li><span style=\"color: #999999;\"><strong>Average fare of first class is 84.15(USD)</strong>, <strong>second class fare is 21(USD)</strong> and <strong>third class fare is 14(USD)</strong>. First class fare is almost 4 times the fare of second class</span></li>\n",
    "<li><span style=\"color: #999999;\"><strong>Passengers from Cherbourg had paid the highest fare</strong>, followed by Southampton and Queenstown. The price difference could be because of distance to destination and Class preferred by passengers</span></li>\n",
    "<li><span style=\"color: #999999;\">Fare for first class is at higher end, some of the tickets are sold over 100(USD) for first class</span></li>\n",
    "<li><span style=\"color: #999999;\">Fare of second and third class had not crossed &gt;= 100(USD)</span></li>\n",
    "</ul>\n",
    "</li>\n",
    "<li><span style=\"color: #666699;\"><strong>Travel Preference:</strong></span>\n",
    "<ul>\n",
    "<li><span style=\"color: #999999;\"><strong>~60% of them were solo travelers</strong> in Titanic Voyage. Majority of <strong>passengers were accompanied by either parents and children</strong></span></li>\n",
    "<li><span style=\"color: #999999;\">Most of the passengers were <strong>accompanied by a single family member</strong> (exclusive of solo travelers)</span></li>\n",
    "<li><span style=\"color: #999999;\"><strong>76% of male</strong> travelers accounts to <strong>solo travel</strong></span></li>\n",
    "<li><span style=\"color: #999999;\"><strong>Significant passengers from second and third class had traveled alone</strong></span></li>\n",
    "<li><span style=\"color: #999999;\"><strong>Almost all children traveled with company</strong></span></li>\n",
    "<li><span style=\"color: #999999;\"><strong> 55% female had travelled with company</strong></span></li>\n",
    "<li><span style=\"color: #999999;\">Maximum family size of passengers was 10 </span></li>\n",
    "<li><span style=\"color: #999999;\">Most of the time, children<strong> were accompanied by single parent</strong></span></li>\n",
    "<li><span style=\"color: #999999;\">13% of male travelled with single company</span></li>\n",
    "<li><span style=\"color: #999999;\"><strong>Queenstown and Southampton has big proportion of solo travel</strong></span></li>\n",
    "<li><span style=\"color: #999999;\"><strong>Cherbourg has almost the same proportion of solo and accompanied travel</strong> </span></li>\n",
    "</ul>\n",
    "</li>\n",
    "<li><span style=\"color: #666699;\"><strong>Travel Port Preference:</strong></span><br />\n",
    "<ul>\n",
    "<li><span style=\"color: #999999;\"><strong>~73% of passengers have embarked from Southampton</strong>, ~19% from Cherbourg &amp; ~9% from Queens town</span></li>\n",
    "<li><span style=\"color: #999999;\">&nbsp;<strong>Cherbourg &amp; Southampton</strong> had maximum embarkation of Adult male</span></li>\n",
    "</ul>\n",
    "</li>\n",
    "<li><span style=\"color: #666699;\"><strong>Preferred class of accommodation:</strong></span><br />\n",
    "<ul>\n",
    "<li><span style=\"color: #999999;\">Titanic carried <strong><strong>~55% of passengers in third class</strong>, 21% - second class </strong>and<strong> 24% - third class</strong></span></li>\n",
    "<li><span style=\"color: #999999;\"><strong>~65% of man preferred third class travel.</strong> <strong>42% of female preferred First class.</strong> And 10~11% of children were there in second &amp; third class&nbsp;(This could be based on affordability of passengers and comfort)</span></li>\n",
    "<li><span style=\"color: #999999;\"><strong>Most of the passengers from Southampton &amp; Queenstown have boarded third class</strong></span></li>\n",
    "<li><span style=\"color: #999999;\"><strong>Cherbourg passengers had preferred first class journey</strong> </span></li>\n",
    "<li><span style=\"color: #999999;\">It is worth noting that <strong>larger family size has higher frequency in third class</strong> </span></li>\n",
    "</ul>\n",
    "</li>\n",
    "<li><span style=\"color: #666699;\"><strong>Titanic Survival:</strong></span>\n",
    "<ul>\n",
    "<li><span style=\"color: #999999;\">Almost <strong>62% of passengers deceased in Titanic disaster</strong></span></li>\n",
    "<li><span style=\"color: #999999;\">It is clear that<strong> 68% were female survivors </strong>compared to male</span></li>\n",
    "<li><span style=\"color: #999999;\"><strong>Clearly 63% of passengers in the first class(</strong>usually the wealthiest on board) had survived. Followed by 47% of passengers survived in second class. <strong>75% of passengers in third class lost their lives</strong></span></li>\n",
    "<li><span style=\"color: #999999;\"><strong>~59% of children survived</strong></span></li>\n",
    "<li><span style=\"color: #999999;\"><strong>75% of female made alive</strong> and only <strong>16% of men survived</strong> </span></li>\n",
    "<li><span style=\"color: #999999;\"><strong>Southampton - 63% of passengers were alive </strong>who had boarded from Southampton port</span></li>\n",
    "<li><span style=\"color: #999999;\"><strong>Cherbourg - 53% of passengers were alive </strong>who had boarded from Cherbourg port</span></li>\n",
    "<li><span style=\"color: #999999;\"><strong>Queenstown - ~52% of passengers were alive </strong>who had boarded from Queenstown port</span></li>\n",
    "<li><span style=\"color: #999999;\"><strong>Passengers accompanied by more than 3 persons were least survived</strong></span></li>\n",
    "<li><span style=\"color: #999999;\"><strong>Passengers accompanied by 1 person had survived by 26%,</strong></span></li>\n",
    "<li><span style=\"color: #999999;\"><strong>Passengers accompanied by 2 people had survived by 17%,</strong></span></li>\n",
    "<li><span style=\"color: #999999;\"><strong>Passengers accompanied by 3 people had survived by 6%,</strong></span></li>\n",
    "</ul>\n",
    "</li>\n",
    "<li><span style=\"color: #666699;\"><strong>Other observations:</strong></span>\n",
    "<ul>\n",
    "<li><span style=\"color: #999999;\">There is <strong>no clear relation between age and fare</strong></span></li>\n",
    "<li><span style=\"color: #999999;\">There is <strong>no clear relation between family size and passenger class</strong></span></li>\n",
    "<li><span style=\"color: #999999;\"><strong>Positive correlation in Family size with sibsp and parch</strong> (because, Family size = sibsp + parch)</span></li>\n",
    "<li><span style=\"color: #999999;\"><strong>No other strong correlation observed among numerical variables</strong></span></li>\n",
    "<li><span style=\"color: #999999;\"><strong>There is no relation between family size and embarkation port</strong></span></li>\n",
    "<li><span style=\"color: #999999;\"><strong>There is no clear relation between age and type of class used by passengers</strong></span></li>\n",
    "</ul>\n",
    "</li>\n",
    "</ul>\n",
    "</li>\n",
    "</ul>\n",
    "<p>&nbsp;</p>"
   ]
  },
  {
   "cell_type": "code",
   "execution_count": null,
   "id": "d5ff546a-12b3-499d-a763-f4d4bbc3f65b",
   "metadata": {},
   "outputs": [],
   "source": [
    "fig, ax = plt.subplots(figsize=(12,6)) # set figure size\n",
    "sns.scatterplot(\n",
    "    x=\"fare\",\n",
    "    y=\"age\",\n",
    "    hue=\"class\",  # Color by sex (categorical)\n",
    "    style=\"alive\",  # Marker style by passenger class (categorical)\n",
    "    size=\"family_size\",  # Size of point by number of siblings/spouses (numerical)\n",
    "    data=df,\n",
    "    alpha=0.5\n",
    ")\n",
    "\n",
    "plt.xlabel(\"Fare\")\n",
    "plt.ylabel(\"Age\")\n",
    "plt.title(\"Scatter Plot of Fare, Age, Class, Familysize, Gender, and SibSp in Titanic Data\")\n",
    "plt.legend(title=\"Legends\", loc=\"best\")\n",
    "plt.show()\n"
   ]
  },
  {
   "cell_type": "code",
   "execution_count": null,
   "id": "fa05ec2f-d284-4d95-b8f4-aa5e894e7deb",
   "metadata": {},
   "outputs": [],
   "source": []
  }
 ],
 "metadata": {
  "celltoolbar": "Slideshow",
  "kernelspec": {
   "display_name": "Python 3 (ipykernel)",
   "language": "python",
   "name": "python3"
  },
  "language_info": {
   "codemirror_mode": {
    "name": "ipython",
    "version": 3
   },
   "file_extension": ".py",
   "mimetype": "text/x-python",
   "name": "python",
   "nbconvert_exporter": "python",
   "pygments_lexer": "ipython3",
   "version": "3.12.2"
  }
 },
 "nbformat": 4,
 "nbformat_minor": 5
}
